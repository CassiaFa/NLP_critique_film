{
 "cells": [
  {
   "cell_type": "markdown",
   "id": "db9a9bab",
   "metadata": {},
   "source": [
    "# NLP Critique de film"
   ]
  },
  {
   "cell_type": "markdown",
   "id": "6593d044",
   "metadata": {},
   "source": [
    "## Importation des bibliothèques"
   ]
  },
  {
   "cell_type": "code",
   "execution_count": 1,
   "id": "b85c98ea",
   "metadata": {},
   "outputs": [],
   "source": [
    "import requests\n",
    "import lxml.html as lh\n",
    "import pandas as pd"
   ]
  },
  {
   "cell_type": "markdown",
   "id": "fd845d4b",
   "metadata": {},
   "source": [
    "## Scrapping"
   ]
  },
  {
   "cell_type": "code",
   "execution_count": 2,
   "id": "b5f3172f",
   "metadata": {},
   "outputs": [],
   "source": [
    "page = requests.get(\"https://www.allocine.fr/film/fichefilm-143692/critiques/spectateurs/\")\n",
    "doc = lh.fromstring(page.content)\n",
    "\n",
    "com = doc.xpath('//div[@class=\"content-txt review-card-content\"]')\n",
    "note = doc.xpath('//span[@class=\"stareval-note\"]')"
   ]
  },
  {
   "cell_type": "code",
   "execution_count": 3,
   "id": "f4882a56",
   "metadata": {},
   "outputs": [],
   "source": [
    "# for i in range(len(note)):\n",
    "#     print(note[i].text_content().strip() + \"\\n\" + \\\n",
    "#           com[i].text_content().strip() + \"\\n\")"
   ]
  },
  {
   "cell_type": "code",
   "execution_count": 4,
   "id": "64da1cd5",
   "metadata": {},
   "outputs": [],
   "source": [
    "# URL\n",
    "url = \"https://www.allocine.fr/film/fichefilm-143692/critiques/spectateurs/\"\n",
    "# URI-SUFFIX\n",
    "uri_pages = '?page='\n",
    "# Number of pages to read\n",
    "nbPages = 100\n",
    "# XPath content to collect\n",
    "tags = ['//span[@class=\"stareval-note\"]', \\\n",
    "        '//div[@class=\"content-txt review-card-content\"]']\n",
    "\n",
    "cols = [\"Note\", \\\n",
    "        \"Commentaire\"]\n",
    "\n",
    "urls = [\"https://www.allocine.fr/film/fichefilm-143692/critiques/spectateurs/\", \\\n",
    "        \"https://www.allocine.fr/film/fichefilm-281203/critiques/spectateurs/\"]"
   ]
  },
  {
   "cell_type": "code",
   "execution_count": 5,
   "id": "d5963481",
   "metadata": {},
   "outputs": [],
   "source": [
    "page = requests.get(url)\n",
    "doc = lh.fromstring(page.content)"
   ]
  },
  {
   "cell_type": "code",
   "execution_count": 6,
   "id": "ea4e1b79",
   "metadata": {},
   "outputs": [],
   "source": [
    "def getPage(url):\n",
    "    page = requests.get(url)\n",
    "    doc = lh.fromstring(page.content)\n",
    "\n",
    "    # Get the Web data via XPath\n",
    "    content = []\n",
    "    for i in range(len(tags)):\n",
    "        content.append(doc.xpath(tags[i]))\n",
    "\n",
    "    # Gather the data into a Pandas DataFrame array\n",
    "    df_liste = []\n",
    "    for j in range(len(tags)):\n",
    "        tmp = pd.DataFrame([content[j][i].text_content().strip() for i in range(len(content[i]))], columns=[cols[j]])\n",
    "        tmp['key'] = tmp.index\n",
    "        df_liste.append(tmp)\n",
    "\n",
    "    # Build the unique Dataframe with one tag (xpath) content per column\n",
    "    liste = df_liste[0]\n",
    "    for j in range(len(tags)-1):\n",
    "        liste = liste.join(df_liste[j+1], on='key', how='left', lsuffix='_l', rsuffix='_r')\n",
    "        liste['key'] = liste.index\n",
    "        del liste['key_l']\n",
    "        del liste['key_r']\n",
    "    \n",
    "    return liste\n",
    "\n",
    "def getPages(_nbPages, _urls):\n",
    "    liste_finale = pd.DataFrame()\n",
    "    for _url in _urls:\n",
    "        for i in range (_nbPages):\n",
    "            liste = getPage(_url + uri_pages + str(i+1))\n",
    "            liste_finale = pd.concat([liste_finale, liste], ignore_index=True)\n",
    "        print(liste_finale.shape)\n",
    "    return liste_finale"
   ]
  },
  {
   "cell_type": "code",
   "execution_count": 7,
   "id": "18c25a26",
   "metadata": {},
   "outputs": [
    {
     "data": {
      "text/plain": [
       "(15, 3)"
      ]
     },
     "execution_count": 7,
     "metadata": {},
     "output_type": "execute_result"
    }
   ],
   "source": [
    "getPage(url).shape"
   ]
  },
  {
   "cell_type": "code",
   "execution_count": 8,
   "id": "b9a25db7",
   "metadata": {},
   "outputs": [
    {
     "name": "stdout",
     "output_type": "stream",
     "text": [
      "(1485, 3)\n",
      "(1558, 3)\n"
     ]
    }
   ],
   "source": [
    "list_totale = getPages(nbPages, urls)"
   ]
  },
  {
   "cell_type": "code",
   "execution_count": 10,
   "id": "d3081f3d",
   "metadata": {},
   "outputs": [
    {
     "data": {
      "text/html": [
       "<div>\n",
       "<style scoped>\n",
       "    .dataframe tbody tr th:only-of-type {\n",
       "        vertical-align: middle;\n",
       "    }\n",
       "\n",
       "    .dataframe tbody tr th {\n",
       "        vertical-align: top;\n",
       "    }\n",
       "\n",
       "    .dataframe thead th {\n",
       "        text-align: right;\n",
       "    }\n",
       "</style>\n",
       "<table border=\"1\" class=\"dataframe\">\n",
       "  <thead>\n",
       "    <tr style=\"text-align: right;\">\n",
       "      <th></th>\n",
       "      <th>Note</th>\n",
       "      <th>Commentaire</th>\n",
       "      <th>key</th>\n",
       "    </tr>\n",
       "  </thead>\n",
       "  <tbody>\n",
       "    <tr>\n",
       "      <th>0</th>\n",
       "      <td>5,0</td>\n",
       "      <td>Dans la catégorie des blockbusters, on a rarem...</td>\n",
       "      <td>0</td>\n",
       "    </tr>\n",
       "    <tr>\n",
       "      <th>1</th>\n",
       "      <td>4,5</td>\n",
       "      <td>C'est l'après dark knight nolan, nous livre un...</td>\n",
       "      <td>1</td>\n",
       "    </tr>\n",
       "    <tr>\n",
       "      <th>2</th>\n",
       "      <td>5,0</td>\n",
       "      <td>En 2010, Christopher Nolan, réalisateur de fil...</td>\n",
       "      <td>2</td>\n",
       "    </tr>\n",
       "    <tr>\n",
       "      <th>3</th>\n",
       "      <td>4,0</td>\n",
       "      <td>Assurément l'un des meilleurs films de l'année...</td>\n",
       "      <td>3</td>\n",
       "    </tr>\n",
       "    <tr>\n",
       "      <th>4</th>\n",
       "      <td>5,0</td>\n",
       "      <td>Inception est un très grand film. Les acteurs ...</td>\n",
       "      <td>4</td>\n",
       "    </tr>\n",
       "    <tr>\n",
       "      <th>...</th>\n",
       "      <td>...</td>\n",
       "      <td>...</td>\n",
       "      <td>...</td>\n",
       "    </tr>\n",
       "    <tr>\n",
       "      <th>1553</th>\n",
       "      <td>3,0</td>\n",
       "      <td>léger et sans prise de tête, le film permet de...</td>\n",
       "      <td>8</td>\n",
       "    </tr>\n",
       "    <tr>\n",
       "      <th>1554</th>\n",
       "      <td>0,5</td>\n",
       "      <td>Films vraiment pour les enfants je me suis fai...</td>\n",
       "      <td>9</td>\n",
       "    </tr>\n",
       "    <tr>\n",
       "      <th>1555</th>\n",
       "      <td>5,0</td>\n",
       "      <td>Ce film etait juste ouffissime , j'ai vraiment...</td>\n",
       "      <td>10</td>\n",
       "    </tr>\n",
       "    <tr>\n",
       "      <th>1556</th>\n",
       "      <td>1,0</td>\n",
       "      <td>Déconseillé aux enfants de plus de 7 ans, et e...</td>\n",
       "      <td>11</td>\n",
       "    </tr>\n",
       "    <tr>\n",
       "      <th>1557</th>\n",
       "      <td>5,0</td>\n",
       "      <td>Superbe suite.Le 1er était top, le second remp...</td>\n",
       "      <td>12</td>\n",
       "    </tr>\n",
       "  </tbody>\n",
       "</table>\n",
       "<p>1558 rows × 3 columns</p>\n",
       "</div>"
      ],
      "text/plain": [
       "     Note                                        Commentaire key\n",
       "0     5,0  Dans la catégorie des blockbusters, on a rarem...   0\n",
       "1     4,5  C'est l'après dark knight nolan, nous livre un...   1\n",
       "2     5,0  En 2010, Christopher Nolan, réalisateur de fil...   2\n",
       "3     4,0  Assurément l'un des meilleurs films de l'année...   3\n",
       "4     5,0  Inception est un très grand film. Les acteurs ...   4\n",
       "...   ...                                                ...  ..\n",
       "1553  3,0  léger et sans prise de tête, le film permet de...   8\n",
       "1554  0,5  Films vraiment pour les enfants je me suis fai...   9\n",
       "1555  5,0  Ce film etait juste ouffissime , j'ai vraiment...  10\n",
       "1556  1,0  Déconseillé aux enfants de plus de 7 ans, et e...  11\n",
       "1557  5,0  Superbe suite.Le 1er était top, le second remp...  12\n",
       "\n",
       "[1558 rows x 3 columns]"
      ]
     },
     "execution_count": 10,
     "metadata": {},
     "output_type": "execute_result"
    }
   ],
   "source": [
    "list_totale"
   ]
  },
  {
   "cell_type": "markdown",
   "id": "eee264e0",
   "metadata": {},
   "source": [
    "## Préparation des données"
   ]
  },
  {
   "cell_type": "code",
   "execution_count": 11,
   "id": "3cb28177",
   "metadata": {},
   "outputs": [],
   "source": [
    "df = list_totale.copy()"
   ]
  },
  {
   "cell_type": "code",
   "execution_count": 12,
   "id": "3db7ec55",
   "metadata": {},
   "outputs": [
    {
     "data": {
      "text/html": [
       "<div>\n",
       "<style scoped>\n",
       "    .dataframe tbody tr th:only-of-type {\n",
       "        vertical-align: middle;\n",
       "    }\n",
       "\n",
       "    .dataframe tbody tr th {\n",
       "        vertical-align: top;\n",
       "    }\n",
       "\n",
       "    .dataframe thead th {\n",
       "        text-align: right;\n",
       "    }\n",
       "</style>\n",
       "<table border=\"1\" class=\"dataframe\">\n",
       "  <thead>\n",
       "    <tr style=\"text-align: right;\">\n",
       "      <th></th>\n",
       "      <th>Note</th>\n",
       "      <th>Commentaire</th>\n",
       "      <th>key</th>\n",
       "    </tr>\n",
       "  </thead>\n",
       "  <tbody>\n",
       "    <tr>\n",
       "      <th>0</th>\n",
       "      <td>5,0</td>\n",
       "      <td>dans la catégorie des blockbusters  on a rarem...</td>\n",
       "      <td>0</td>\n",
       "    </tr>\n",
       "    <tr>\n",
       "      <th>1</th>\n",
       "      <td>4,5</td>\n",
       "      <td>c est l après dark knight nolan  nous livre un...</td>\n",
       "      <td>1</td>\n",
       "    </tr>\n",
       "    <tr>\n",
       "      <th>2</th>\n",
       "      <td>5,0</td>\n",
       "      <td>en   christopher nolan  réalisateur de films c...</td>\n",
       "      <td>2</td>\n",
       "    </tr>\n",
       "    <tr>\n",
       "      <th>3</th>\n",
       "      <td>4,0</td>\n",
       "      <td>assurément l un des meilleurs films de l année...</td>\n",
       "      <td>3</td>\n",
       "    </tr>\n",
       "    <tr>\n",
       "      <th>4</th>\n",
       "      <td>5,0</td>\n",
       "      <td>inception est un très grand film  les acteurs ...</td>\n",
       "      <td>4</td>\n",
       "    </tr>\n",
       "  </tbody>\n",
       "</table>\n",
       "</div>"
      ],
      "text/plain": [
       "  Note                                        Commentaire key\n",
       "0  5,0  dans la catégorie des blockbusters  on a rarem...   0\n",
       "1  4,5  c est l après dark knight nolan  nous livre un...   1\n",
       "2  5,0  en   christopher nolan  réalisateur de films c...   2\n",
       "3  4,0  assurément l un des meilleurs films de l année...   3\n",
       "4  5,0  inception est un très grand film  les acteurs ...   4"
      ]
     },
     "execution_count": 12,
     "metadata": {},
     "output_type": "execute_result"
    }
   ],
   "source": [
    "df[\"Commentaire\"] = df[\"Commentaire\"].replace(\"[^\\w\\s]\", \" \", regex=True).str.replace('\\d+', '', regex=True).str.lower()\n",
    "df.head()"
   ]
  },
  {
   "cell_type": "markdown",
   "id": "a943de47",
   "metadata": {},
   "source": [
    "### Soustraction de stopwords "
   ]
  },
  {
   "cell_type": "code",
   "execution_count": 13,
   "id": "cf067f53",
   "metadata": {},
   "outputs": [],
   "source": [
    "from stop_words import get_stop_words"
   ]
  },
  {
   "cell_type": "code",
   "execution_count": 14,
   "id": "6580538a",
   "metadata": {},
   "outputs": [
    {
     "name": "stdout",
     "output_type": "stream",
     "text": [
      "['a', 'ai', 'aie', 'aient', 'aies', 'ait', 'alors', 'as', 'au', 'aucun', 'aura', 'aurai', 'auraient', 'aurais', 'aurait', 'auras', 'aurez', 'auriez', 'aurions', 'aurons', 'auront', 'aussi', 'autre', 'aux', 'avaient', 'avais', 'avait', 'avant', 'avec', 'avez', 'aviez', 'avions', 'avoir', 'avons', 'ayant', 'ayez', 'ayons', 'bon', 'car', 'ce', 'ceci', 'cela', 'ces', 'cet', 'cette', 'ceux', 'chaque', 'ci', 'comme', 'comment', 'd', 'dans', 'de', 'dedans', 'dehors', 'depuis', 'des', 'deux', 'devoir', 'devrait', 'devrez', 'devriez', 'devrions', 'devrons', 'devront', 'dois', 'doit', 'donc', 'dos', 'droite', 'du', 'dès', 'début', 'dù', 'elle', 'elles', 'en', 'encore', 'es', 'est', 'et', 'eu', 'eue', 'eues', 'eurent', 'eus', 'eusse', 'eussent', 'eusses', 'eussiez', 'eussions', 'eut', 'eux', 'eûmes', 'eût', 'eûtes', 'faire', 'fais', 'faisez', 'fait', 'faites', 'fois', 'font', 'force', 'furent', 'fus', 'fusse', 'fussent', 'fusses', 'fussiez', 'fussions', 'fut', 'fûmes', 'fût', 'fûtes', 'haut', 'hors', 'ici', 'il', 'ils', 'j', 'je', 'juste', 'l', 'la', 'le', 'les', 'leur', 'leurs', 'lui', 'là', 'm', 'ma', 'maintenant', 'mais', 'me', 'mes', 'moi', 'moins', 'mon', 'mot', 'même', 'n', 'ne', 'ni', 'nom', 'nommé', 'nommée', 'nommés', 'nos', 'notre', 'nous', 'nouveau', 'nouveaux', 'on', 'ont', 'ou', 'où', 'par', 'parce', 'parole', 'pas', 'personne', 'personnes', 'peu', 'peut', 'plupart', 'pour', 'pourquoi', 'qu', 'quand', 'que', 'quel', 'quelle', 'quelles', 'quels', 'qui', 'sa', 'sans', 'se', 'sera', 'serai', 'seraient', 'serais', 'serait', 'seras', 'serez', 'seriez', 'serions', 'serons', 'seront', 'ses', 'seulement', 'si', 'sien', 'soi', 'soient', 'sois', 'soit', 'sommes', 'son', 'sont', 'sous', 'soyez', 'soyons', 'suis', 'sujet', 'sur', 't', 'ta', 'tandis', 'te', 'tellement', 'tels', 'tes', 'toi', 'ton', 'tous', 'tout', 'trop', 'très', 'tu', 'un', 'une', 'valeur', 'voient', 'vois', 'voit', 'vont', 'vos', 'votre', 'vous', 'vu', 'y', 'à', 'ça', 'étaient', 'étais', 'était', 'étant', 'état', 'étiez', 'étions', 'été', 'étés', 'êtes', 'être']\n"
     ]
    }
   ],
   "source": [
    "stopwords = get_stop_words('french')\n",
    "print(stopwords)"
   ]
  },
  {
   "cell_type": "code",
   "execution_count": 15,
   "id": "5c9fb941",
   "metadata": {},
   "outputs": [],
   "source": [
    "stopwords.append(\"c\")"
   ]
  },
  {
   "cell_type": "code",
   "execution_count": 16,
   "id": "f0dea4cc",
   "metadata": {},
   "outputs": [
    {
     "data": {
      "text/html": [
       "<div>\n",
       "<style scoped>\n",
       "    .dataframe tbody tr th:only-of-type {\n",
       "        vertical-align: middle;\n",
       "    }\n",
       "\n",
       "    .dataframe tbody tr th {\n",
       "        vertical-align: top;\n",
       "    }\n",
       "\n",
       "    .dataframe thead th {\n",
       "        text-align: right;\n",
       "    }\n",
       "</style>\n",
       "<table border=\"1\" class=\"dataframe\">\n",
       "  <thead>\n",
       "    <tr style=\"text-align: right;\">\n",
       "      <th></th>\n",
       "      <th>Note</th>\n",
       "      <th>Commentaire</th>\n",
       "      <th>key</th>\n",
       "      <th>sans_sw</th>\n",
       "    </tr>\n",
       "  </thead>\n",
       "  <tbody>\n",
       "    <tr>\n",
       "      <th>0</th>\n",
       "      <td>5,0</td>\n",
       "      <td>dans la catégorie des blockbusters  on a rarem...</td>\n",
       "      <td>0</td>\n",
       "      <td>catégorie blockbusters rarement mieux mise scè...</td>\n",
       "    </tr>\n",
       "    <tr>\n",
       "      <th>1</th>\n",
       "      <td>4,5</td>\n",
       "      <td>c est l après dark knight nolan  nous livre un...</td>\n",
       "      <td>1</td>\n",
       "      <td>après dark knight nolan livre divertissements ...</td>\n",
       "    </tr>\n",
       "    <tr>\n",
       "      <th>2</th>\n",
       "      <td>5,0</td>\n",
       "      <td>en   christopher nolan  réalisateur de films c...</td>\n",
       "      <td>2</td>\n",
       "      <td>christopher nolan réalisateur films cultes aut...</td>\n",
       "    </tr>\n",
       "    <tr>\n",
       "      <th>3</th>\n",
       "      <td>4,0</td>\n",
       "      <td>assurément l un des meilleurs films de l année...</td>\n",
       "      <td>3</td>\n",
       "      <td>assurément meilleurs films année jour niveau n...</td>\n",
       "    </tr>\n",
       "    <tr>\n",
       "      <th>4</th>\n",
       "      <td>5,0</td>\n",
       "      <td>inception est un très grand film  les acteurs ...</td>\n",
       "      <td>4</td>\n",
       "      <td>inception grand film acteurs excellents scénar...</td>\n",
       "    </tr>\n",
       "  </tbody>\n",
       "</table>\n",
       "</div>"
      ],
      "text/plain": [
       "  Note                                        Commentaire key  \\\n",
       "0  5,0  dans la catégorie des blockbusters  on a rarem...   0   \n",
       "1  4,5  c est l après dark knight nolan  nous livre un...   1   \n",
       "2  5,0  en   christopher nolan  réalisateur de films c...   2   \n",
       "3  4,0  assurément l un des meilleurs films de l année...   3   \n",
       "4  5,0  inception est un très grand film  les acteurs ...   4   \n",
       "\n",
       "                                             sans_sw  \n",
       "0  catégorie blockbusters rarement mieux mise scè...  \n",
       "1  après dark knight nolan livre divertissements ...  \n",
       "2  christopher nolan réalisateur films cultes aut...  \n",
       "3  assurément meilleurs films année jour niveau n...  \n",
       "4  inception grand film acteurs excellents scénar...  "
      ]
     },
     "execution_count": 16,
     "metadata": {},
     "output_type": "execute_result"
    }
   ],
   "source": [
    "df['sans_sw'] = df['Commentaire'].apply(lambda x: ' '.join([word for word in x.split() if word not in (stopwords)]))\n",
    "df.head()"
   ]
  },
  {
   "cell_type": "markdown",
   "id": "eff7e712",
   "metadata": {},
   "source": [
    "### Etape de LEM"
   ]
  },
  {
   "cell_type": "code",
   "execution_count": 17,
   "id": "a82ecaa6",
   "metadata": {},
   "outputs": [],
   "source": [
    "import spacy"
   ]
  },
  {
   "cell_type": "code",
   "execution_count": 18,
   "id": "7120e8f8",
   "metadata": {},
   "outputs": [],
   "source": [
    "nlp = spacy.load('fr_core_news_md')\n",
    "\n",
    "# doc = nlp(u\"voudrais était non animaux yeux dors couvre.\")\n",
    "# for token in doc:\n",
    "#    print(token, token.lemma_)"
   ]
  },
  {
   "cell_type": "code",
   "execution_count": 111,
   "id": "f7d45ff2",
   "metadata": {},
   "outputs": [
    {
     "data": {
      "text/html": [
       "<div>\n",
       "<style scoped>\n",
       "    .dataframe tbody tr th:only-of-type {\n",
       "        vertical-align: middle;\n",
       "    }\n",
       "\n",
       "    .dataframe tbody tr th {\n",
       "        vertical-align: top;\n",
       "    }\n",
       "\n",
       "    .dataframe thead th {\n",
       "        text-align: right;\n",
       "    }\n",
       "</style>\n",
       "<table border=\"1\" class=\"dataframe\">\n",
       "  <thead>\n",
       "    <tr style=\"text-align: right;\">\n",
       "      <th></th>\n",
       "      <th>Note</th>\n",
       "      <th>Commentaire</th>\n",
       "      <th>key</th>\n",
       "      <th>sans_sw</th>\n",
       "      <th>lem</th>\n",
       "    </tr>\n",
       "  </thead>\n",
       "  <tbody>\n",
       "    <tr>\n",
       "      <th>0</th>\n",
       "      <td>5,0</td>\n",
       "      <td>après le chef d oeuvre super héroïque the dark...</td>\n",
       "      <td>0</td>\n",
       "      <td>après chef oeuvre super héroïque the dark knig...</td>\n",
       "      <td>[après, chef, oeuvre, super, héroïque, the, da...</td>\n",
       "    </tr>\n",
       "    <tr>\n",
       "      <th>1</th>\n",
       "      <td>5,0</td>\n",
       "      <td>c est fou ce qu on aime détester christopher n...</td>\n",
       "      <td>1</td>\n",
       "      <td>fou aime détester christopher nolan plus films...</td>\n",
       "      <td>[fou, aime, détester, christopher, nolan, plus...</td>\n",
       "    </tr>\n",
       "    <tr>\n",
       "      <th>2</th>\n",
       "      <td>5,0</td>\n",
       "      <td>chef d œuvre   le film est absolument parfait ...</td>\n",
       "      <td>2</td>\n",
       "      <td>chef œuvre film absolument parfait acteurs exc...</td>\n",
       "      <td>[chef, œuvre, film, absolument, parfait, acteu...</td>\n",
       "    </tr>\n",
       "    <tr>\n",
       "      <th>3</th>\n",
       "      <td>5,0</td>\n",
       "      <td>un film aussi novateur que complexe  dont la m...</td>\n",
       "      <td>3</td>\n",
       "      <td>film novateur complexe dont mise scène touche ...</td>\n",
       "      <td>[film, novateur, complexe, dont, mettre, scène...</td>\n",
       "    </tr>\n",
       "    <tr>\n",
       "      <th>4</th>\n",
       "      <td>3,5</td>\n",
       "      <td>le meilleur blockbuster de  a pour thème la dé...</td>\n",
       "      <td>4</td>\n",
       "      <td>meilleur blockbuster thème délicate différenci...</td>\n",
       "      <td>[meilleur, blockbuster, thème, délicat, différ...</td>\n",
       "    </tr>\n",
       "  </tbody>\n",
       "</table>\n",
       "</div>"
      ],
      "text/plain": [
       "  Note                                        Commentaire  key  \\\n",
       "0  5,0  après le chef d oeuvre super héroïque the dark...    0   \n",
       "1  5,0  c est fou ce qu on aime détester christopher n...    1   \n",
       "2  5,0  chef d œuvre   le film est absolument parfait ...    2   \n",
       "3  5,0  un film aussi novateur que complexe  dont la m...    3   \n",
       "4  3,5  le meilleur blockbuster de  a pour thème la dé...    4   \n",
       "\n",
       "                                             sans_sw  \\\n",
       "0  après chef oeuvre super héroïque the dark knig...   \n",
       "1  fou aime détester christopher nolan plus films...   \n",
       "2  chef œuvre film absolument parfait acteurs exc...   \n",
       "3  film novateur complexe dont mise scène touche ...   \n",
       "4  meilleur blockbuster thème délicate différenci...   \n",
       "\n",
       "                                                 lem  \n",
       "0  [après, chef, oeuvre, super, héroïque, the, da...  \n",
       "1  [fou, aime, détester, christopher, nolan, plus...  \n",
       "2  [chef, œuvre, film, absolument, parfait, acteu...  \n",
       "3  [film, novateur, complexe, dont, mettre, scène...  \n",
       "4  [meilleur, blockbuster, thème, délicat, différ...  "
      ]
     },
     "execution_count": 111,
     "metadata": {},
     "output_type": "execute_result"
    }
   ],
   "source": [
    "# df[\"lem\"] = df[\"sans_sw\"].apply(lambda x: [y.lemma_ for y in nlp(x)])\n",
    "# df.head()"
   ]
  },
  {
   "cell_type": "code",
   "execution_count": 19,
   "id": "65ac3cea",
   "metadata": {},
   "outputs": [
    {
     "data": {
      "text/html": [
       "<div>\n",
       "<style scoped>\n",
       "    .dataframe tbody tr th:only-of-type {\n",
       "        vertical-align: middle;\n",
       "    }\n",
       "\n",
       "    .dataframe tbody tr th {\n",
       "        vertical-align: top;\n",
       "    }\n",
       "\n",
       "    .dataframe thead th {\n",
       "        text-align: right;\n",
       "    }\n",
       "</style>\n",
       "<table border=\"1\" class=\"dataframe\">\n",
       "  <thead>\n",
       "    <tr style=\"text-align: right;\">\n",
       "      <th></th>\n",
       "      <th>Note</th>\n",
       "      <th>Commentaire</th>\n",
       "      <th>key</th>\n",
       "      <th>sans_sw</th>\n",
       "      <th>lem</th>\n",
       "    </tr>\n",
       "  </thead>\n",
       "  <tbody>\n",
       "    <tr>\n",
       "      <th>0</th>\n",
       "      <td>5,0</td>\n",
       "      <td>dans la catégorie des blockbusters  on a rarem...</td>\n",
       "      <td>0</td>\n",
       "      <td>catégorie blockbusters rarement mieux mise scè...</td>\n",
       "      <td>catégorie blockbuster rarement mieux mise scèn...</td>\n",
       "    </tr>\n",
       "    <tr>\n",
       "      <th>1</th>\n",
       "      <td>4,5</td>\n",
       "      <td>c est l après dark knight nolan  nous livre un...</td>\n",
       "      <td>1</td>\n",
       "      <td>après dark knight nolan livre divertissements ...</td>\n",
       "      <td>après dark knight nolan livre divertissement d...</td>\n",
       "    </tr>\n",
       "    <tr>\n",
       "      <th>2</th>\n",
       "      <td>5,0</td>\n",
       "      <td>en   christopher nolan  réalisateur de films c...</td>\n",
       "      <td>2</td>\n",
       "      <td>christopher nolan réalisateur films cultes aut...</td>\n",
       "      <td>christopher nolan réalisateur film culte autre...</td>\n",
       "    </tr>\n",
       "    <tr>\n",
       "      <th>3</th>\n",
       "      <td>4,0</td>\n",
       "      <td>assurément l un des meilleurs films de l année...</td>\n",
       "      <td>3</td>\n",
       "      <td>assurément meilleurs films année jour niveau n...</td>\n",
       "      <td>assurément meilleur film année jour niveau nol...</td>\n",
       "    </tr>\n",
       "    <tr>\n",
       "      <th>4</th>\n",
       "      <td>5,0</td>\n",
       "      <td>inception est un très grand film  les acteurs ...</td>\n",
       "      <td>4</td>\n",
       "      <td>inception grand film acteurs excellents scénar...</td>\n",
       "      <td>inception grand film acteur excellent scénario...</td>\n",
       "    </tr>\n",
       "  </tbody>\n",
       "</table>\n",
       "</div>"
      ],
      "text/plain": [
       "  Note                                        Commentaire key  \\\n",
       "0  5,0  dans la catégorie des blockbusters  on a rarem...   0   \n",
       "1  4,5  c est l après dark knight nolan  nous livre un...   1   \n",
       "2  5,0  en   christopher nolan  réalisateur de films c...   2   \n",
       "3  4,0  assurément l un des meilleurs films de l année...   3   \n",
       "4  5,0  inception est un très grand film  les acteurs ...   4   \n",
       "\n",
       "                                             sans_sw  \\\n",
       "0  catégorie blockbusters rarement mieux mise scè...   \n",
       "1  après dark knight nolan livre divertissements ...   \n",
       "2  christopher nolan réalisateur films cultes aut...   \n",
       "3  assurément meilleurs films année jour niveau n...   \n",
       "4  inception grand film acteurs excellents scénar...   \n",
       "\n",
       "                                                 lem  \n",
       "0  catégorie blockbuster rarement mieux mise scèn...  \n",
       "1  après dark knight nolan livre divertissement d...  \n",
       "2  christopher nolan réalisateur film culte autre...  \n",
       "3  assurément meilleur film année jour niveau nol...  \n",
       "4  inception grand film acteur excellent scénario...  "
      ]
     },
     "execution_count": 19,
     "metadata": {},
     "output_type": "execute_result"
    }
   ],
   "source": [
    "df['lem'] = df[\"sans_sw\"].apply(lambda x: ' '.join(str(y.lemma_) for y in nlp(x)))\n",
    "df.head()"
   ]
  },
  {
   "cell_type": "markdown",
   "id": "93d11b58",
   "metadata": {},
   "source": [
    "### Retrait des accents"
   ]
  },
  {
   "cell_type": "code",
   "execution_count": 57,
   "id": "9c50f075",
   "metadata": {},
   "outputs": [
    {
     "data": {
      "text/html": [
       "<div>\n",
       "<style scoped>\n",
       "    .dataframe tbody tr th:only-of-type {\n",
       "        vertical-align: middle;\n",
       "    }\n",
       "\n",
       "    .dataframe tbody tr th {\n",
       "        vertical-align: top;\n",
       "    }\n",
       "\n",
       "    .dataframe thead th {\n",
       "        text-align: right;\n",
       "    }\n",
       "</style>\n",
       "<table border=\"1\" class=\"dataframe\">\n",
       "  <thead>\n",
       "    <tr style=\"text-align: right;\">\n",
       "      <th></th>\n",
       "      <th>Note</th>\n",
       "      <th>Commentaire</th>\n",
       "      <th>key</th>\n",
       "      <th>sans_sw</th>\n",
       "      <th>lem</th>\n",
       "    </tr>\n",
       "  </thead>\n",
       "  <tbody>\n",
       "    <tr>\n",
       "      <th>0</th>\n",
       "      <td>5,0</td>\n",
       "      <td>dans la catégorie des blockbusters  on a rarem...</td>\n",
       "      <td>0</td>\n",
       "      <td>catégorie blockbusters rarement mieux mise scè...</td>\n",
       "      <td>categorie blockbuster rarement mieux mise scen...</td>\n",
       "    </tr>\n",
       "    <tr>\n",
       "      <th>1</th>\n",
       "      <td>4,5</td>\n",
       "      <td>c est l après dark knight nolan  nous livre un...</td>\n",
       "      <td>1</td>\n",
       "      <td>après dark knight nolan livre divertissements ...</td>\n",
       "      <td>apres dark knight nolan livre divertissement d...</td>\n",
       "    </tr>\n",
       "    <tr>\n",
       "      <th>2</th>\n",
       "      <td>5,0</td>\n",
       "      <td>en   christopher nolan  réalisateur de films c...</td>\n",
       "      <td>2</td>\n",
       "      <td>christopher nolan réalisateur films cultes aut...</td>\n",
       "      <td>christopher nolan realisateur film culte autre...</td>\n",
       "    </tr>\n",
       "    <tr>\n",
       "      <th>3</th>\n",
       "      <td>4,0</td>\n",
       "      <td>assurément l un des meilleurs films de l année...</td>\n",
       "      <td>3</td>\n",
       "      <td>assurément meilleurs films année jour niveau n...</td>\n",
       "      <td>assurement meilleur film annee jour niveau nol...</td>\n",
       "    </tr>\n",
       "    <tr>\n",
       "      <th>4</th>\n",
       "      <td>5,0</td>\n",
       "      <td>inception est un très grand film  les acteurs ...</td>\n",
       "      <td>4</td>\n",
       "      <td>inception grand film acteurs excellents scénar...</td>\n",
       "      <td>inception grand film acteur excellent scenario...</td>\n",
       "    </tr>\n",
       "  </tbody>\n",
       "</table>\n",
       "</div>"
      ],
      "text/plain": [
       "  Note                                        Commentaire key  \\\n",
       "0  5,0  dans la catégorie des blockbusters  on a rarem...   0   \n",
       "1  4,5  c est l après dark knight nolan  nous livre un...   1   \n",
       "2  5,0  en   christopher nolan  réalisateur de films c...   2   \n",
       "3  4,0  assurément l un des meilleurs films de l année...   3   \n",
       "4  5,0  inception est un très grand film  les acteurs ...   4   \n",
       "\n",
       "                                             sans_sw  \\\n",
       "0  catégorie blockbusters rarement mieux mise scè...   \n",
       "1  après dark knight nolan livre divertissements ...   \n",
       "2  christopher nolan réalisateur films cultes aut...   \n",
       "3  assurément meilleurs films année jour niveau n...   \n",
       "4  inception grand film acteurs excellents scénar...   \n",
       "\n",
       "                                                 lem  \n",
       "0  categorie blockbuster rarement mieux mise scen...  \n",
       "1  apres dark knight nolan livre divertissement d...  \n",
       "2  christopher nolan realisateur film culte autre...  \n",
       "3  assurement meilleur film annee jour niveau nol...  \n",
       "4  inception grand film acteur excellent scenario...  "
      ]
     },
     "execution_count": 57,
     "metadata": {},
     "output_type": "execute_result"
    }
   ],
   "source": [
    "df[\"lem\"] = df[\"lem\"].str.normalize('NFKD').str.encode('ascii', errors='ignore').str.decode('utf-8')\n",
    "df.head()"
   ]
  },
  {
   "cell_type": "markdown",
   "id": "d5236be1",
   "metadata": {},
   "source": [
    "#### Si liste de mots"
   ]
  },
  {
   "cell_type": "code",
   "execution_count": 58,
   "id": "64a80793",
   "metadata": {},
   "outputs": [],
   "source": [
    "# import unicodedata as ud"
   ]
  },
  {
   "cell_type": "code",
   "execution_count": 59,
   "id": "ec645381",
   "metadata": {},
   "outputs": [],
   "source": [
    "# df[\"lem\"] = df[\"lem\"].apply(lambda x: [ud.normalize('NFKD',y).encode('ascii', errors='ignore').decode('utf-8') for y in x])\n",
    "# df.head()"
   ]
  },
  {
   "cell_type": "markdown",
   "id": "4958e953",
   "metadata": {},
   "source": [
    "### Etape de *STEM*"
   ]
  },
  {
   "cell_type": "code",
   "execution_count": 60,
   "id": "51b13eb0",
   "metadata": {},
   "outputs": [],
   "source": [
    "# from nltk.stem.snowball import SnowballStemmer"
   ]
  },
  {
   "cell_type": "code",
   "execution_count": 61,
   "id": "38ee7935",
   "metadata": {},
   "outputs": [],
   "source": [
    "# stemmer = SnowballStemmer(\"french\")"
   ]
  },
  {
   "cell_type": "code",
   "execution_count": 62,
   "id": "ee292d2c",
   "metadata": {},
   "outputs": [],
   "source": [
    "# df[\"stemmed\"] = df[\"sans_sw\"].str.split().apply(lambda x: [stemmer.stem(y) for y in x])\n",
    "# df.head()"
   ]
  },
  {
   "cell_type": "markdown",
   "id": "39c945e7-87e5-4870-80f4-4e00189d3536",
   "metadata": {},
   "source": [
    "### Division du jeu de données en train et test"
   ]
  },
  {
   "cell_type": "code",
   "execution_count": 63,
   "id": "39f88375-c024-436d-bf28-2f0b4112a971",
   "metadata": {},
   "outputs": [],
   "source": [
    "from sklearn.model_selection import train_test_split"
   ]
  },
  {
   "cell_type": "code",
   "execution_count": 64,
   "id": "fd8f13a5-9afc-4769-b5a9-56b4dda83aac",
   "metadata": {},
   "outputs": [],
   "source": [
    "x = df[\"lem\"].copy()\n",
    "y = df[\"Note\"].replace(\",\", \".\", regex=True).astype(\"float\")"
   ]
  },
  {
   "cell_type": "code",
   "execution_count": 65,
   "id": "380f186f-0574-41a5-825c-3640647ee20c",
   "metadata": {},
   "outputs": [],
   "source": [
    "y[y<3.0] = 0\n",
    "y[y>0] = 1"
   ]
  },
  {
   "cell_type": "code",
   "execution_count": 66,
   "id": "58fcac3d-0ef2-4d15-8627-cb5c9c01bfe4",
   "metadata": {},
   "outputs": [
    {
     "data": {
      "text/plain": [
       "1.0    1254\n",
       "0.0     304\n",
       "Name: Note, dtype: int64"
      ]
     },
     "execution_count": 66,
     "metadata": {},
     "output_type": "execute_result"
    }
   ],
   "source": [
    "y.value_counts()"
   ]
  },
  {
   "cell_type": "code",
   "execution_count": 67,
   "id": "71881205-9b64-43e7-9682-e3f08f2d5eda",
   "metadata": {},
   "outputs": [
    {
     "data": {
      "text/plain": [
       "(1558,)"
      ]
     },
     "execution_count": 67,
     "metadata": {},
     "output_type": "execute_result"
    }
   ],
   "source": [
    "y.shape"
   ]
  },
  {
   "cell_type": "code",
   "execution_count": 35,
   "id": "5e5c823e-c354-4fbc-b170-57c23407bac3",
   "metadata": {},
   "outputs": [],
   "source": [
    "X_train, X_test, y_train, y_test = train_test_split(x, y, train_size=0.8, random_state=0)"
   ]
  },
  {
   "cell_type": "markdown",
   "id": "79f6b581",
   "metadata": {},
   "source": [
    "### Transformation en *Bag of words*"
   ]
  },
  {
   "cell_type": "code",
   "execution_count": 36,
   "id": "d900dbaf",
   "metadata": {},
   "outputs": [],
   "source": [
    "from sklearn.feature_extraction.text import CountVectorizer"
   ]
  },
  {
   "cell_type": "code",
   "execution_count": 45,
   "id": "91be5d90",
   "metadata": {},
   "outputs": [
    {
     "name": "stdout",
     "output_type": "stream",
     "text": [
      "(1246, 75) \n",
      " <class 'scipy.sparse._csr.csr_matrix'>\n"
     ]
    }
   ],
   "source": [
    "cv = CountVectorizer(lowercase=False, min_df=0.1)\n",
    "cv_matrix = cv.fit_transform(X_train)\n",
    "\n",
    "print(cv_matrix.shape, \"\\n\", type(cv_matrix))"
   ]
  },
  {
   "cell_type": "code",
   "execution_count": 46,
   "id": "1fc3e288",
   "metadata": {},
   "outputs": [
    {
     "data": {
      "text/html": [
       "<div>\n",
       "<style scoped>\n",
       "    .dataframe tbody tr th:only-of-type {\n",
       "        vertical-align: middle;\n",
       "    }\n",
       "\n",
       "    .dataframe tbody tr th {\n",
       "        vertical-align: top;\n",
       "    }\n",
       "\n",
       "    .dataframe thead th {\n",
       "        text-align: right;\n",
       "    }\n",
       "</style>\n",
       "<table border=\"1\" class=\"dataframe\">\n",
       "  <thead>\n",
       "    <tr style=\"text-align: right;\">\n",
       "      <th></th>\n",
       "      <th>acteur</th>\n",
       "      <th>action</th>\n",
       "      <th>aller</th>\n",
       "      <th>annee</th>\n",
       "      <th>apres</th>\n",
       "      <th>assez</th>\n",
       "      <th>autre</th>\n",
       "      <th>beaucoup</th>\n",
       "      <th>bien</th>\n",
       "      <th>bon</th>\n",
       "      <th>...</th>\n",
       "      <th>scene</th>\n",
       "      <th>special</th>\n",
       "      <th>spectateur</th>\n",
       "      <th>surtout</th>\n",
       "      <th>temps</th>\n",
       "      <th>toujours</th>\n",
       "      <th>tout</th>\n",
       "      <th>voir</th>\n",
       "      <th>vraiment</th>\n",
       "      <th>zimmer</th>\n",
       "    </tr>\n",
       "  </thead>\n",
       "  <tbody>\n",
       "    <tr>\n",
       "      <th>224</th>\n",
       "      <td>0</td>\n",
       "      <td>0</td>\n",
       "      <td>0</td>\n",
       "      <td>0</td>\n",
       "      <td>0</td>\n",
       "      <td>0</td>\n",
       "      <td>0</td>\n",
       "      <td>0</td>\n",
       "      <td>0</td>\n",
       "      <td>0</td>\n",
       "      <td>...</td>\n",
       "      <td>0</td>\n",
       "      <td>0</td>\n",
       "      <td>0</td>\n",
       "      <td>0</td>\n",
       "      <td>0</td>\n",
       "      <td>0</td>\n",
       "      <td>0</td>\n",
       "      <td>0</td>\n",
       "      <td>0</td>\n",
       "      <td>0</td>\n",
       "    </tr>\n",
       "    <tr>\n",
       "      <th>302</th>\n",
       "      <td>0</td>\n",
       "      <td>0</td>\n",
       "      <td>0</td>\n",
       "      <td>0</td>\n",
       "      <td>0</td>\n",
       "      <td>0</td>\n",
       "      <td>1</td>\n",
       "      <td>0</td>\n",
       "      <td>0</td>\n",
       "      <td>0</td>\n",
       "      <td>...</td>\n",
       "      <td>0</td>\n",
       "      <td>1</td>\n",
       "      <td>1</td>\n",
       "      <td>0</td>\n",
       "      <td>0</td>\n",
       "      <td>0</td>\n",
       "      <td>1</td>\n",
       "      <td>0</td>\n",
       "      <td>0</td>\n",
       "      <td>0</td>\n",
       "    </tr>\n",
       "    <tr>\n",
       "      <th>1108</th>\n",
       "      <td>1</td>\n",
       "      <td>1</td>\n",
       "      <td>1</td>\n",
       "      <td>0</td>\n",
       "      <td>1</td>\n",
       "      <td>0</td>\n",
       "      <td>1</td>\n",
       "      <td>0</td>\n",
       "      <td>0</td>\n",
       "      <td>0</td>\n",
       "      <td>...</td>\n",
       "      <td>0</td>\n",
       "      <td>0</td>\n",
       "      <td>0</td>\n",
       "      <td>0</td>\n",
       "      <td>0</td>\n",
       "      <td>0</td>\n",
       "      <td>0</td>\n",
       "      <td>0</td>\n",
       "      <td>1</td>\n",
       "      <td>0</td>\n",
       "    </tr>\n",
       "    <tr>\n",
       "      <th>218</th>\n",
       "      <td>1</td>\n",
       "      <td>0</td>\n",
       "      <td>0</td>\n",
       "      <td>0</td>\n",
       "      <td>0</td>\n",
       "      <td>0</td>\n",
       "      <td>0</td>\n",
       "      <td>0</td>\n",
       "      <td>0</td>\n",
       "      <td>0</td>\n",
       "      <td>...</td>\n",
       "      <td>0</td>\n",
       "      <td>1</td>\n",
       "      <td>0</td>\n",
       "      <td>0</td>\n",
       "      <td>0</td>\n",
       "      <td>0</td>\n",
       "      <td>0</td>\n",
       "      <td>1</td>\n",
       "      <td>1</td>\n",
       "      <td>0</td>\n",
       "    </tr>\n",
       "    <tr>\n",
       "      <th>1014</th>\n",
       "      <td>0</td>\n",
       "      <td>0</td>\n",
       "      <td>0</td>\n",
       "      <td>0</td>\n",
       "      <td>0</td>\n",
       "      <td>0</td>\n",
       "      <td>0</td>\n",
       "      <td>0</td>\n",
       "      <td>0</td>\n",
       "      <td>0</td>\n",
       "      <td>...</td>\n",
       "      <td>0</td>\n",
       "      <td>1</td>\n",
       "      <td>1</td>\n",
       "      <td>1</td>\n",
       "      <td>0</td>\n",
       "      <td>2</td>\n",
       "      <td>0</td>\n",
       "      <td>0</td>\n",
       "      <td>0</td>\n",
       "      <td>0</td>\n",
       "    </tr>\n",
       "  </tbody>\n",
       "</table>\n",
       "<p>5 rows × 75 columns</p>\n",
       "</div>"
      ],
      "text/plain": [
       "      acteur  action  aller  annee  apres  assez  autre  beaucoup  bien  bon  \\\n",
       "224        0       0      0      0      0      0      0         0     0    0   \n",
       "302        0       0      0      0      0      0      1         0     0    0   \n",
       "1108       1       1      1      0      1      0      1         0     0    0   \n",
       "218        1       0      0      0      0      0      0         0     0    0   \n",
       "1014       0       0      0      0      0      0      0         0     0    0   \n",
       "\n",
       "      ...  scene  special  spectateur  surtout  temps  toujours  tout  voir  \\\n",
       "224   ...      0        0           0        0      0         0     0     0   \n",
       "302   ...      0        1           1        0      0         0     1     0   \n",
       "1108  ...      0        0           0        0      0         0     0     0   \n",
       "218   ...      0        1           0        0      0         0     0     1   \n",
       "1014  ...      0        1           1        1      0         2     0     0   \n",
       "\n",
       "      vraiment  zimmer  \n",
       "224          0       0  \n",
       "302          0       0  \n",
       "1108         1       0  \n",
       "218          1       0  \n",
       "1014         0       0  \n",
       "\n",
       "[5 rows x 75 columns]"
      ]
     },
     "execution_count": 46,
     "metadata": {},
     "output_type": "execute_result"
    }
   ],
   "source": [
    "df_bow = pd.DataFrame(cv_matrix.toarray(), index = X_train.index, columns = cv.get_feature_names_out())\n",
    "df_bow.head()"
   ]
  },
  {
   "cell_type": "code",
   "execution_count": null,
   "id": "80a8a9ae",
   "metadata": {},
   "outputs": [],
   "source": []
  }
 ],
 "metadata": {
  "kernelspec": {
   "display_name": "Python 3 (ipykernel)",
   "language": "python",
   "name": "python3"
  },
  "language_info": {
   "codemirror_mode": {
    "name": "ipython",
    "version": 3
   },
   "file_extension": ".py",
   "mimetype": "text/x-python",
   "name": "python",
   "nbconvert_exporter": "python",
   "pygments_lexer": "ipython3",
   "version": "3.9.7"
  }
 },
 "nbformat": 4,
 "nbformat_minor": 5
}
