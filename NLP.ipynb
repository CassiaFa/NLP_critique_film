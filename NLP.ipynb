{
 "cells": [
  {
   "cell_type": "markdown",
   "id": "db9a9bab",
   "metadata": {},
   "source": [
    "# NLP Critique de film"
   ]
  },
  {
   "cell_type": "markdown",
   "id": "6593d044",
   "metadata": {},
   "source": [
    "## Importation des bibliothèques"
   ]
  },
  {
   "cell_type": "code",
   "execution_count": 1,
   "id": "b85c98ea",
   "metadata": {},
   "outputs": [],
   "source": [
    "import requests\n",
    "import lxml.html as lh\n",
    "import pandas as pd"
   ]
  },
  {
   "cell_type": "markdown",
   "id": "fd845d4b",
   "metadata": {},
   "source": [
    "## Scrapping"
   ]
  },
  {
   "cell_type": "code",
   "execution_count": 2,
   "id": "b5f3172f",
   "metadata": {},
   "outputs": [],
   "source": [
    "page = requests.get(\"https://www.allocine.fr/film/fichefilm-143692/critiques/spectateurs/\")\n",
    "doc = lh.fromstring(page.content)\n",
    "\n",
    "com = doc.xpath('//div[@class=\"content-txt review-card-content\"]')\n",
    "note = doc.xpath('//span[@class=\"stareval-note\"]')"
   ]
  },
  {
   "cell_type": "code",
   "execution_count": 3,
   "id": "f4882a56",
   "metadata": {},
   "outputs": [],
   "source": [
    "# for i in range(len(note)):\n",
    "#     print(note[i].text_content().strip() + \"\\n\" + \\\n",
    "#           com[i].text_content().strip() + \"\\n\")"
   ]
  },
  {
   "cell_type": "code",
   "execution_count": 4,
   "id": "64da1cd5",
   "metadata": {},
   "outputs": [],
   "source": [
    "# URL\n",
    "url = \"https://www.allocine.fr/film/fichefilm-143692/critiques/spectateurs/\"\n",
    "# URI-SUFFIX\n",
    "uri_pages = '?page='\n",
    "# Number of pages to read\n",
    "nbPages = 100\n",
    "# XPath content to collect\n",
    "tags = ['//span[@class=\"stareval-note\"]', \\\n",
    "        '//div[@class=\"content-txt review-card-content\"]']\n",
    "\n",
    "cols = [\"Note\", \\\n",
    "        \"Commentaire\"]\n",
    "\n",
    "urls = [\"https://www.allocine.fr/film/fichefilm-143692/critiques/spectateurs/\", \\\n",
    "        \"https://www.allocine.fr/film/fichefilm-281203/critiques/spectateurs/\"]"
   ]
  },
  {
   "cell_type": "code",
   "execution_count": 5,
   "id": "d5963481",
   "metadata": {},
   "outputs": [],
   "source": [
    "page = requests.get(url)\n",
    "doc = lh.fromstring(page.content)"
   ]
  },
  {
   "cell_type": "code",
   "execution_count": 6,
   "id": "ea4e1b79",
   "metadata": {},
   "outputs": [],
   "source": [
    "def getPage(url):\n",
    "    page = requests.get(url)\n",
    "    doc = lh.fromstring(page.content)\n",
    "\n",
    "    # Get the Web data via XPath\n",
    "    content = []\n",
    "    for i in range(len(tags)):\n",
    "        content.append(doc.xpath(tags[i]))\n",
    "\n",
    "    # Gather the data into a Pandas DataFrame array\n",
    "    df_liste = []\n",
    "    for j in range(len(tags)):\n",
    "        tmp = pd.DataFrame([content[j][i].text_content().strip() for i in range(len(content[i]))], columns=[cols[j]])\n",
    "        tmp['key'] = tmp.index\n",
    "        df_liste.append(tmp)\n",
    "\n",
    "    # Build the unique Dataframe with one tag (xpath) content per column\n",
    "    liste = df_liste[0]\n",
    "    for j in range(len(tags)-1):\n",
    "        liste = liste.join(df_liste[j+1], on='key', how='left', lsuffix='_l', rsuffix='_r')\n",
    "        liste['key'] = liste.index\n",
    "        del liste['key_l']\n",
    "        del liste['key_r']\n",
    "    \n",
    "    return liste\n",
    "\n",
    "def getPages(_nbPages, _urls):\n",
    "    liste_finale = pd.DataFrame()\n",
    "    for _url in _urls:\n",
    "        for i in range (_nbPages):\n",
    "            liste = getPage(_url + uri_pages + str(i+1))\n",
    "            liste_finale = pd.concat([liste_finale, liste], ignore_index=True)\n",
    "        print(liste_finale.shape)\n",
    "    return liste_finale"
   ]
  },
  {
   "cell_type": "code",
   "execution_count": 7,
   "id": "18c25a26",
   "metadata": {},
   "outputs": [
    {
     "data": {
      "text/plain": [
       "(15, 3)"
      ]
     },
     "execution_count": 7,
     "metadata": {},
     "output_type": "execute_result"
    }
   ],
   "source": [
    "getPage(url).shape"
   ]
  },
  {
   "cell_type": "code",
   "execution_count": 8,
   "id": "b9a25db7",
   "metadata": {},
   "outputs": [
    {
     "name": "stdout",
     "output_type": "stream",
     "text": [
      "(1500, 3)\n",
      "(2100, 3)\n"
     ]
    }
   ],
   "source": [
    "list_totale = getPages(nbPages, urls)"
   ]
  },
  {
   "cell_type": "code",
   "execution_count": 9,
   "id": "d3081f3d",
   "metadata": {},
   "outputs": [
    {
     "data": {
      "text/html": [
       "<div>\n",
       "<style scoped>\n",
       "    .dataframe tbody tr th:only-of-type {\n",
       "        vertical-align: middle;\n",
       "    }\n",
       "\n",
       "    .dataframe tbody tr th {\n",
       "        vertical-align: top;\n",
       "    }\n",
       "\n",
       "    .dataframe thead th {\n",
       "        text-align: right;\n",
       "    }\n",
       "</style>\n",
       "<table border=\"1\" class=\"dataframe\">\n",
       "  <thead>\n",
       "    <tr style=\"text-align: right;\">\n",
       "      <th></th>\n",
       "      <th>Note</th>\n",
       "      <th>Commentaire</th>\n",
       "      <th>key</th>\n",
       "    </tr>\n",
       "  </thead>\n",
       "  <tbody>\n",
       "    <tr>\n",
       "      <th>0</th>\n",
       "      <td>5,0</td>\n",
       "      <td>Après le chef d'oeuvre super-héroïque The Dark...</td>\n",
       "      <td>0</td>\n",
       "    </tr>\n",
       "    <tr>\n",
       "      <th>1</th>\n",
       "      <td>5,0</td>\n",
       "      <td>C’est fou ce qu’on aime détester Christopher N...</td>\n",
       "      <td>1</td>\n",
       "    </tr>\n",
       "    <tr>\n",
       "      <th>2</th>\n",
       "      <td>5,0</td>\n",
       "      <td>CHEF D’ŒUVRE ! Le film est absolument parfait ...</td>\n",
       "      <td>2</td>\n",
       "    </tr>\n",
       "    <tr>\n",
       "      <th>3</th>\n",
       "      <td>5,0</td>\n",
       "      <td>Un film aussi novateur que complexe, dont la m...</td>\n",
       "      <td>3</td>\n",
       "    </tr>\n",
       "    <tr>\n",
       "      <th>4</th>\n",
       "      <td>3,5</td>\n",
       "      <td>Le meilleur blockbuster de 2010 a pour thème l...</td>\n",
       "      <td>4</td>\n",
       "    </tr>\n",
       "    <tr>\n",
       "      <th>...</th>\n",
       "      <td>...</td>\n",
       "      <td>...</td>\n",
       "      <td>...</td>\n",
       "    </tr>\n",
       "    <tr>\n",
       "      <th>2095</th>\n",
       "      <td>4,0</td>\n",
       "      <td>Y'a rien à dire, c'est vraiment un excellent f...</td>\n",
       "      <td>0</td>\n",
       "    </tr>\n",
       "    <tr>\n",
       "      <th>2096</th>\n",
       "      <td>5,0</td>\n",
       "      <td>J'ai adoré ce film beaucoup mieux que le premi...</td>\n",
       "      <td>1</td>\n",
       "    </tr>\n",
       "    <tr>\n",
       "      <th>2097</th>\n",
       "      <td>5,0</td>\n",
       "      <td>Le film est trop bien la qualité du film est s...</td>\n",
       "      <td>2</td>\n",
       "    </tr>\n",
       "    <tr>\n",
       "      <th>2098</th>\n",
       "      <td>4,0</td>\n",
       "      <td>Excellent film à voir petit comme grand. J’ai ...</td>\n",
       "      <td>3</td>\n",
       "    </tr>\n",
       "    <tr>\n",
       "      <th>2099</th>\n",
       "      <td>3,5</td>\n",
       "      <td>\"Sonic 2\", film d'animation américano-japonais...</td>\n",
       "      <td>4</td>\n",
       "    </tr>\n",
       "  </tbody>\n",
       "</table>\n",
       "<p>2100 rows × 3 columns</p>\n",
       "</div>"
      ],
      "text/plain": [
       "     Note                                        Commentaire  key\n",
       "0     5,0  Après le chef d'oeuvre super-héroïque The Dark...    0\n",
       "1     5,0  C’est fou ce qu’on aime détester Christopher N...    1\n",
       "2     5,0  CHEF D’ŒUVRE ! Le film est absolument parfait ...    2\n",
       "3     5,0  Un film aussi novateur que complexe, dont la m...    3\n",
       "4     3,5  Le meilleur blockbuster de 2010 a pour thème l...    4\n",
       "...   ...                                                ...  ...\n",
       "2095  4,0  Y'a rien à dire, c'est vraiment un excellent f...    0\n",
       "2096  5,0  J'ai adoré ce film beaucoup mieux que le premi...    1\n",
       "2097  5,0  Le film est trop bien la qualité du film est s...    2\n",
       "2098  4,0  Excellent film à voir petit comme grand. J’ai ...    3\n",
       "2099  3,5  \"Sonic 2\", film d'animation américano-japonais...    4\n",
       "\n",
       "[2100 rows x 3 columns]"
      ]
     },
     "execution_count": 9,
     "metadata": {},
     "output_type": "execute_result"
    }
   ],
   "source": [
    "list_totale"
   ]
  },
  {
   "cell_type": "markdown",
   "id": "eee264e0",
   "metadata": {},
   "source": [
    "## Préparation des données"
   ]
  },
  {
   "cell_type": "code",
   "execution_count": 10,
   "id": "3cb28177",
   "metadata": {},
   "outputs": [],
   "source": [
    "df = list_totale.copy()"
   ]
  },
  {
   "cell_type": "code",
   "execution_count": 11,
   "id": "3db7ec55",
   "metadata": {},
   "outputs": [
    {
     "data": {
      "text/html": [
       "<div>\n",
       "<style scoped>\n",
       "    .dataframe tbody tr th:only-of-type {\n",
       "        vertical-align: middle;\n",
       "    }\n",
       "\n",
       "    .dataframe tbody tr th {\n",
       "        vertical-align: top;\n",
       "    }\n",
       "\n",
       "    .dataframe thead th {\n",
       "        text-align: right;\n",
       "    }\n",
       "</style>\n",
       "<table border=\"1\" class=\"dataframe\">\n",
       "  <thead>\n",
       "    <tr style=\"text-align: right;\">\n",
       "      <th></th>\n",
       "      <th>Note</th>\n",
       "      <th>Commentaire</th>\n",
       "      <th>key</th>\n",
       "    </tr>\n",
       "  </thead>\n",
       "  <tbody>\n",
       "    <tr>\n",
       "      <th>0</th>\n",
       "      <td>5,0</td>\n",
       "      <td>après le chef d oeuvre super héroïque the dark...</td>\n",
       "      <td>0</td>\n",
       "    </tr>\n",
       "    <tr>\n",
       "      <th>1</th>\n",
       "      <td>5,0</td>\n",
       "      <td>c est fou ce qu on aime détester christopher n...</td>\n",
       "      <td>1</td>\n",
       "    </tr>\n",
       "    <tr>\n",
       "      <th>2</th>\n",
       "      <td>5,0</td>\n",
       "      <td>chef d œuvre   le film est absolument parfait ...</td>\n",
       "      <td>2</td>\n",
       "    </tr>\n",
       "    <tr>\n",
       "      <th>3</th>\n",
       "      <td>5,0</td>\n",
       "      <td>un film aussi novateur que complexe  dont la m...</td>\n",
       "      <td>3</td>\n",
       "    </tr>\n",
       "    <tr>\n",
       "      <th>4</th>\n",
       "      <td>3,5</td>\n",
       "      <td>le meilleur blockbuster de  a pour thème la dé...</td>\n",
       "      <td>4</td>\n",
       "    </tr>\n",
       "  </tbody>\n",
       "</table>\n",
       "</div>"
      ],
      "text/plain": [
       "  Note                                        Commentaire  key\n",
       "0  5,0  après le chef d oeuvre super héroïque the dark...    0\n",
       "1  5,0  c est fou ce qu on aime détester christopher n...    1\n",
       "2  5,0  chef d œuvre   le film est absolument parfait ...    2\n",
       "3  5,0  un film aussi novateur que complexe  dont la m...    3\n",
       "4  3,5  le meilleur blockbuster de  a pour thème la dé...    4"
      ]
     },
     "execution_count": 11,
     "metadata": {},
     "output_type": "execute_result"
    }
   ],
   "source": [
    "df[\"Commentaire\"] = df[\"Commentaire\"].replace(\"[^\\w\\s]\", \" \", regex=True).str.replace('\\d+', '', regex=True).str.lower()\n",
    "df.head()"
   ]
  },
  {
   "cell_type": "markdown",
   "id": "a943de47",
   "metadata": {},
   "source": [
    "### Soustraction de stopwords "
   ]
  },
  {
   "cell_type": "code",
   "execution_count": 12,
   "id": "cf067f53",
   "metadata": {},
   "outputs": [],
   "source": [
    "from stop_words import get_stop_words"
   ]
  },
  {
   "cell_type": "code",
   "execution_count": 13,
   "id": "6580538a",
   "metadata": {},
   "outputs": [
    {
     "name": "stdout",
     "output_type": "stream",
     "text": [
      "['a', 'ai', 'aie', 'aient', 'aies', 'ait', 'alors', 'as', 'au', 'aucun', 'aura', 'aurai', 'auraient', 'aurais', 'aurait', 'auras', 'aurez', 'auriez', 'aurions', 'aurons', 'auront', 'aussi', 'autre', 'aux', 'avaient', 'avais', 'avait', 'avant', 'avec', 'avez', 'aviez', 'avions', 'avoir', 'avons', 'ayant', 'ayez', 'ayons', 'bon', 'car', 'ce', 'ceci', 'cela', 'ces', 'cet', 'cette', 'ceux', 'chaque', 'ci', 'comme', 'comment', 'd', 'dans', 'de', 'dedans', 'dehors', 'depuis', 'des', 'deux', 'devoir', 'devrait', 'devrez', 'devriez', 'devrions', 'devrons', 'devront', 'dois', 'doit', 'donc', 'dos', 'droite', 'du', 'dès', 'début', 'dù', 'elle', 'elles', 'en', 'encore', 'es', 'est', 'et', 'eu', 'eue', 'eues', 'eurent', 'eus', 'eusse', 'eussent', 'eusses', 'eussiez', 'eussions', 'eut', 'eux', 'eûmes', 'eût', 'eûtes', 'faire', 'fais', 'faisez', 'fait', 'faites', 'fois', 'font', 'force', 'furent', 'fus', 'fusse', 'fussent', 'fusses', 'fussiez', 'fussions', 'fut', 'fûmes', 'fût', 'fûtes', 'haut', 'hors', 'ici', 'il', 'ils', 'j', 'je', 'juste', 'l', 'la', 'le', 'les', 'leur', 'leurs', 'lui', 'là', 'm', 'ma', 'maintenant', 'mais', 'me', 'mes', 'moi', 'moins', 'mon', 'mot', 'même', 'n', 'ne', 'ni', 'nom', 'nommé', 'nommée', 'nommés', 'nos', 'notre', 'nous', 'nouveau', 'nouveaux', 'on', 'ont', 'ou', 'où', 'par', 'parce', 'parole', 'pas', 'personne', 'personnes', 'peu', 'peut', 'plupart', 'pour', 'pourquoi', 'qu', 'quand', 'que', 'quel', 'quelle', 'quelles', 'quels', 'qui', 'sa', 'sans', 'se', 'sera', 'serai', 'seraient', 'serais', 'serait', 'seras', 'serez', 'seriez', 'serions', 'serons', 'seront', 'ses', 'seulement', 'si', 'sien', 'soi', 'soient', 'sois', 'soit', 'sommes', 'son', 'sont', 'sous', 'soyez', 'soyons', 'suis', 'sujet', 'sur', 't', 'ta', 'tandis', 'te', 'tellement', 'tels', 'tes', 'toi', 'ton', 'tous', 'tout', 'trop', 'très', 'tu', 'un', 'une', 'valeur', 'voient', 'vois', 'voit', 'vont', 'vos', 'votre', 'vous', 'vu', 'y', 'à', 'ça', 'étaient', 'étais', 'était', 'étant', 'état', 'étiez', 'étions', 'été', 'étés', 'êtes', 'être']\n"
     ]
    }
   ],
   "source": [
    "stopwords = get_stop_words('french')\n",
    "print(stopwords)"
   ]
  },
  {
   "cell_type": "code",
   "execution_count": 14,
   "id": "5c9fb941",
   "metadata": {},
   "outputs": [],
   "source": [
    "stopwords.append(\"c\")"
   ]
  },
  {
   "cell_type": "code",
   "execution_count": 15,
   "id": "f0dea4cc",
   "metadata": {},
   "outputs": [
    {
     "data": {
      "text/html": [
       "<div>\n",
       "<style scoped>\n",
       "    .dataframe tbody tr th:only-of-type {\n",
       "        vertical-align: middle;\n",
       "    }\n",
       "\n",
       "    .dataframe tbody tr th {\n",
       "        vertical-align: top;\n",
       "    }\n",
       "\n",
       "    .dataframe thead th {\n",
       "        text-align: right;\n",
       "    }\n",
       "</style>\n",
       "<table border=\"1\" class=\"dataframe\">\n",
       "  <thead>\n",
       "    <tr style=\"text-align: right;\">\n",
       "      <th></th>\n",
       "      <th>Note</th>\n",
       "      <th>Commentaire</th>\n",
       "      <th>key</th>\n",
       "      <th>sans_sw</th>\n",
       "    </tr>\n",
       "  </thead>\n",
       "  <tbody>\n",
       "    <tr>\n",
       "      <th>0</th>\n",
       "      <td>5,0</td>\n",
       "      <td>après le chef d oeuvre super héroïque the dark...</td>\n",
       "      <td>0</td>\n",
       "      <td>après chef oeuvre super héroïque the dark knig...</td>\n",
       "    </tr>\n",
       "    <tr>\n",
       "      <th>1</th>\n",
       "      <td>5,0</td>\n",
       "      <td>c est fou ce qu on aime détester christopher n...</td>\n",
       "      <td>1</td>\n",
       "      <td>fou aime détester christopher nolan plus films...</td>\n",
       "    </tr>\n",
       "    <tr>\n",
       "      <th>2</th>\n",
       "      <td>5,0</td>\n",
       "      <td>chef d œuvre   le film est absolument parfait ...</td>\n",
       "      <td>2</td>\n",
       "      <td>chef œuvre film absolument parfait acteurs exc...</td>\n",
       "    </tr>\n",
       "    <tr>\n",
       "      <th>3</th>\n",
       "      <td>5,0</td>\n",
       "      <td>un film aussi novateur que complexe  dont la m...</td>\n",
       "      <td>3</td>\n",
       "      <td>film novateur complexe dont mise scène touche ...</td>\n",
       "    </tr>\n",
       "    <tr>\n",
       "      <th>4</th>\n",
       "      <td>3,5</td>\n",
       "      <td>le meilleur blockbuster de  a pour thème la dé...</td>\n",
       "      <td>4</td>\n",
       "      <td>meilleur blockbuster thème délicate différenci...</td>\n",
       "    </tr>\n",
       "  </tbody>\n",
       "</table>\n",
       "</div>"
      ],
      "text/plain": [
       "  Note                                        Commentaire  key  \\\n",
       "0  5,0  après le chef d oeuvre super héroïque the dark...    0   \n",
       "1  5,0  c est fou ce qu on aime détester christopher n...    1   \n",
       "2  5,0  chef d œuvre   le film est absolument parfait ...    2   \n",
       "3  5,0  un film aussi novateur que complexe  dont la m...    3   \n",
       "4  3,5  le meilleur blockbuster de  a pour thème la dé...    4   \n",
       "\n",
       "                                             sans_sw  \n",
       "0  après chef oeuvre super héroïque the dark knig...  \n",
       "1  fou aime détester christopher nolan plus films...  \n",
       "2  chef œuvre film absolument parfait acteurs exc...  \n",
       "3  film novateur complexe dont mise scène touche ...  \n",
       "4  meilleur blockbuster thème délicate différenci...  "
      ]
     },
     "execution_count": 15,
     "metadata": {},
     "output_type": "execute_result"
    }
   ],
   "source": [
    "df['sans_sw'] = df['Commentaire'].apply(lambda x: ' '.join([word for word in x.split() if word not in (stopwords)]))\n",
    "df.head()"
   ]
  },
  {
   "cell_type": "markdown",
   "id": "eff7e712",
   "metadata": {},
   "source": [
    "### Etape de LEM"
   ]
  },
  {
   "cell_type": "code",
   "execution_count": 16,
   "id": "a82ecaa6",
   "metadata": {},
   "outputs": [
    {
     "name": "stderr",
     "output_type": "stream",
     "text": [
      "2022-06-17 09:51:04.808778: W tensorflow/stream_executor/platform/default/dso_loader.cc:64] Could not load dynamic library 'libcudart.so.11.0'; dlerror: libcudart.so.11.0: cannot open shared object file: No such file or directory\n",
      "2022-06-17 09:51:04.808825: I tensorflow/stream_executor/cuda/cudart_stub.cc:29] Ignore above cudart dlerror if you do not have a GPU set up on your machine.\n"
     ]
    }
   ],
   "source": [
    "import spacy"
   ]
  },
  {
   "cell_type": "code",
   "execution_count": 17,
   "id": "7120e8f8",
   "metadata": {},
   "outputs": [],
   "source": [
    "nlp = spacy.load('fr_core_news_md')\n",
    "\n",
    "# doc = nlp(u\"voudrais était non animaux yeux dors couvre.\")\n",
    "# for token in doc:\n",
    "#    print(token, token.lemma_)"
   ]
  },
  {
   "cell_type": "code",
   "execution_count": 18,
   "id": "f7d45ff2",
   "metadata": {},
   "outputs": [],
   "source": [
    "# df[\"lem\"] = df[\"sans_sw\"].apply(lambda x: [y.lemma_ for y in nlp(x)])\n",
    "# df.head()"
   ]
  },
  {
   "cell_type": "code",
   "execution_count": 19,
   "id": "65ac3cea",
   "metadata": {},
   "outputs": [
    {
     "data": {
      "text/html": [
       "<div>\n",
       "<style scoped>\n",
       "    .dataframe tbody tr th:only-of-type {\n",
       "        vertical-align: middle;\n",
       "    }\n",
       "\n",
       "    .dataframe tbody tr th {\n",
       "        vertical-align: top;\n",
       "    }\n",
       "\n",
       "    .dataframe thead th {\n",
       "        text-align: right;\n",
       "    }\n",
       "</style>\n",
       "<table border=\"1\" class=\"dataframe\">\n",
       "  <thead>\n",
       "    <tr style=\"text-align: right;\">\n",
       "      <th></th>\n",
       "      <th>Note</th>\n",
       "      <th>Commentaire</th>\n",
       "      <th>key</th>\n",
       "      <th>sans_sw</th>\n",
       "      <th>lem</th>\n",
       "    </tr>\n",
       "  </thead>\n",
       "  <tbody>\n",
       "    <tr>\n",
       "      <th>0</th>\n",
       "      <td>5,0</td>\n",
       "      <td>après le chef d oeuvre super héroïque the dark...</td>\n",
       "      <td>0</td>\n",
       "      <td>après chef oeuvre super héroïque the dark knig...</td>\n",
       "      <td>après chef oeuvre super héroïque the dark knig...</td>\n",
       "    </tr>\n",
       "    <tr>\n",
       "      <th>1</th>\n",
       "      <td>5,0</td>\n",
       "      <td>c est fou ce qu on aime détester christopher n...</td>\n",
       "      <td>1</td>\n",
       "      <td>fou aime détester christopher nolan plus films...</td>\n",
       "      <td>fou aime détester christopher nolan plus film ...</td>\n",
       "    </tr>\n",
       "    <tr>\n",
       "      <th>2</th>\n",
       "      <td>5,0</td>\n",
       "      <td>chef d œuvre   le film est absolument parfait ...</td>\n",
       "      <td>2</td>\n",
       "      <td>chef œuvre film absolument parfait acteurs exc...</td>\n",
       "      <td>chef œuvre film absolument parfait acteur exce...</td>\n",
       "    </tr>\n",
       "    <tr>\n",
       "      <th>3</th>\n",
       "      <td>5,0</td>\n",
       "      <td>un film aussi novateur que complexe  dont la m...</td>\n",
       "      <td>3</td>\n",
       "      <td>film novateur complexe dont mise scène touche ...</td>\n",
       "      <td>film novateur complexe dont mettre scène touch...</td>\n",
       "    </tr>\n",
       "    <tr>\n",
       "      <th>4</th>\n",
       "      <td>3,5</td>\n",
       "      <td>le meilleur blockbuster de  a pour thème la dé...</td>\n",
       "      <td>4</td>\n",
       "      <td>meilleur blockbuster thème délicate différenci...</td>\n",
       "      <td>meilleur blockbuster thème délicat différencia...</td>\n",
       "    </tr>\n",
       "  </tbody>\n",
       "</table>\n",
       "</div>"
      ],
      "text/plain": [
       "  Note                                        Commentaire  key  \\\n",
       "0  5,0  après le chef d oeuvre super héroïque the dark...    0   \n",
       "1  5,0  c est fou ce qu on aime détester christopher n...    1   \n",
       "2  5,0  chef d œuvre   le film est absolument parfait ...    2   \n",
       "3  5,0  un film aussi novateur que complexe  dont la m...    3   \n",
       "4  3,5  le meilleur blockbuster de  a pour thème la dé...    4   \n",
       "\n",
       "                                             sans_sw  \\\n",
       "0  après chef oeuvre super héroïque the dark knig...   \n",
       "1  fou aime détester christopher nolan plus films...   \n",
       "2  chef œuvre film absolument parfait acteurs exc...   \n",
       "3  film novateur complexe dont mise scène touche ...   \n",
       "4  meilleur blockbuster thème délicate différenci...   \n",
       "\n",
       "                                                 lem  \n",
       "0  après chef oeuvre super héroïque the dark knig...  \n",
       "1  fou aime détester christopher nolan plus film ...  \n",
       "2  chef œuvre film absolument parfait acteur exce...  \n",
       "3  film novateur complexe dont mettre scène touch...  \n",
       "4  meilleur blockbuster thème délicat différencia...  "
      ]
     },
     "execution_count": 19,
     "metadata": {},
     "output_type": "execute_result"
    }
   ],
   "source": [
    "df['lem'] = df[\"sans_sw\"].apply(lambda x: ' '.join(str(y.lemma_) for y in nlp(x)))\n",
    "df.head()"
   ]
  },
  {
   "cell_type": "markdown",
   "id": "93d11b58",
   "metadata": {},
   "source": [
    "### Retrait des accents"
   ]
  },
  {
   "cell_type": "code",
   "execution_count": 20,
   "id": "9c50f075",
   "metadata": {},
   "outputs": [
    {
     "data": {
      "text/html": [
       "<div>\n",
       "<style scoped>\n",
       "    .dataframe tbody tr th:only-of-type {\n",
       "        vertical-align: middle;\n",
       "    }\n",
       "\n",
       "    .dataframe tbody tr th {\n",
       "        vertical-align: top;\n",
       "    }\n",
       "\n",
       "    .dataframe thead th {\n",
       "        text-align: right;\n",
       "    }\n",
       "</style>\n",
       "<table border=\"1\" class=\"dataframe\">\n",
       "  <thead>\n",
       "    <tr style=\"text-align: right;\">\n",
       "      <th></th>\n",
       "      <th>Note</th>\n",
       "      <th>Commentaire</th>\n",
       "      <th>key</th>\n",
       "      <th>sans_sw</th>\n",
       "      <th>lem</th>\n",
       "    </tr>\n",
       "  </thead>\n",
       "  <tbody>\n",
       "    <tr>\n",
       "      <th>0</th>\n",
       "      <td>5,0</td>\n",
       "      <td>après le chef d oeuvre super héroïque the dark...</td>\n",
       "      <td>0</td>\n",
       "      <td>après chef oeuvre super héroïque the dark knig...</td>\n",
       "      <td>apres chef oeuvre super heroique the dark knig...</td>\n",
       "    </tr>\n",
       "    <tr>\n",
       "      <th>1</th>\n",
       "      <td>5,0</td>\n",
       "      <td>c est fou ce qu on aime détester christopher n...</td>\n",
       "      <td>1</td>\n",
       "      <td>fou aime détester christopher nolan plus films...</td>\n",
       "      <td>fou aime detester christopher nolan plus film ...</td>\n",
       "    </tr>\n",
       "    <tr>\n",
       "      <th>2</th>\n",
       "      <td>5,0</td>\n",
       "      <td>chef d œuvre   le film est absolument parfait ...</td>\n",
       "      <td>2</td>\n",
       "      <td>chef œuvre film absolument parfait acteurs exc...</td>\n",
       "      <td>chef uvre film absolument parfait acteur excel...</td>\n",
       "    </tr>\n",
       "    <tr>\n",
       "      <th>3</th>\n",
       "      <td>5,0</td>\n",
       "      <td>un film aussi novateur que complexe  dont la m...</td>\n",
       "      <td>3</td>\n",
       "      <td>film novateur complexe dont mise scène touche ...</td>\n",
       "      <td>film novateur complexe dont mettre scene touch...</td>\n",
       "    </tr>\n",
       "    <tr>\n",
       "      <th>4</th>\n",
       "      <td>3,5</td>\n",
       "      <td>le meilleur blockbuster de  a pour thème la dé...</td>\n",
       "      <td>4</td>\n",
       "      <td>meilleur blockbuster thème délicate différenci...</td>\n",
       "      <td>meilleur blockbuster theme delicat differencia...</td>\n",
       "    </tr>\n",
       "  </tbody>\n",
       "</table>\n",
       "</div>"
      ],
      "text/plain": [
       "  Note                                        Commentaire  key  \\\n",
       "0  5,0  après le chef d oeuvre super héroïque the dark...    0   \n",
       "1  5,0  c est fou ce qu on aime détester christopher n...    1   \n",
       "2  5,0  chef d œuvre   le film est absolument parfait ...    2   \n",
       "3  5,0  un film aussi novateur que complexe  dont la m...    3   \n",
       "4  3,5  le meilleur blockbuster de  a pour thème la dé...    4   \n",
       "\n",
       "                                             sans_sw  \\\n",
       "0  après chef oeuvre super héroïque the dark knig...   \n",
       "1  fou aime détester christopher nolan plus films...   \n",
       "2  chef œuvre film absolument parfait acteurs exc...   \n",
       "3  film novateur complexe dont mise scène touche ...   \n",
       "4  meilleur blockbuster thème délicate différenci...   \n",
       "\n",
       "                                                 lem  \n",
       "0  apres chef oeuvre super heroique the dark knig...  \n",
       "1  fou aime detester christopher nolan plus film ...  \n",
       "2  chef uvre film absolument parfait acteur excel...  \n",
       "3  film novateur complexe dont mettre scene touch...  \n",
       "4  meilleur blockbuster theme delicat differencia...  "
      ]
     },
     "execution_count": 20,
     "metadata": {},
     "output_type": "execute_result"
    }
   ],
   "source": [
    "df[\"lem\"] = df[\"lem\"].str.normalize('NFKD').str.encode('ascii', errors='ignore').str.decode('utf-8')\n",
    "df.head()"
   ]
  },
  {
   "cell_type": "markdown",
   "id": "d5236be1",
   "metadata": {},
   "source": [
    "#### Si liste de mots"
   ]
  },
  {
   "cell_type": "code",
   "execution_count": 21,
   "id": "64a80793",
   "metadata": {},
   "outputs": [],
   "source": [
    "# import unicodedata as ud"
   ]
  },
  {
   "cell_type": "code",
   "execution_count": 22,
   "id": "ec645381",
   "metadata": {},
   "outputs": [],
   "source": [
    "# df[\"lem\"] = df[\"lem\"].apply(lambda x: [ud.normalize('NFKD',y).encode('ascii', errors='ignore').decode('utf-8') for y in x])\n",
    "# df.head()"
   ]
  },
  {
   "cell_type": "markdown",
   "id": "4958e953",
   "metadata": {},
   "source": [
    "### Etape de *STEM*"
   ]
  },
  {
   "cell_type": "code",
   "execution_count": 23,
   "id": "51b13eb0",
   "metadata": {},
   "outputs": [],
   "source": [
    "# from nltk.stem.snowball import SnowballStemmer"
   ]
  },
  {
   "cell_type": "code",
   "execution_count": 24,
   "id": "38ee7935",
   "metadata": {},
   "outputs": [],
   "source": [
    "# stemmer = SnowballStemmer(\"french\")"
   ]
  },
  {
   "cell_type": "code",
   "execution_count": 25,
   "id": "ee292d2c",
   "metadata": {},
   "outputs": [],
   "source": [
    "# df[\"stemmed\"] = df[\"sans_sw\"].str.split().apply(lambda x: [stemmer.stem(y) for y in x])\n",
    "# df.head()"
   ]
  },
  {
   "cell_type": "markdown",
   "id": "39c945e7-87e5-4870-80f4-4e00189d3536",
   "metadata": {},
   "source": [
    "### Division du jeu de données en train et test"
   ]
  },
  {
   "cell_type": "code",
   "execution_count": 26,
   "id": "39f88375-c024-436d-bf28-2f0b4112a971",
   "metadata": {},
   "outputs": [],
   "source": [
    "from sklearn.model_selection import train_test_split"
   ]
  },
  {
   "cell_type": "code",
   "execution_count": 27,
   "id": "fd8f13a5-9afc-4769-b5a9-56b4dda83aac",
   "metadata": {},
   "outputs": [],
   "source": [
    "x = df[\"lem\"].copy()\n",
    "y = df[\"Note\"].replace(\",\", \".\", regex=True).astype(\"float\")"
   ]
  },
  {
   "cell_type": "code",
   "execution_count": 28,
   "id": "380f186f-0574-41a5-825c-3640647ee20c",
   "metadata": {},
   "outputs": [],
   "source": [
    "y[y<3.0] = 0\n",
    "y[y>0] = 1"
   ]
  },
  {
   "cell_type": "code",
   "execution_count": 29,
   "id": "58fcac3d-0ef2-4d15-8627-cb5c9c01bfe4",
   "metadata": {},
   "outputs": [
    {
     "data": {
      "text/plain": [
       "1.0    1778\n",
       "0.0     322\n",
       "Name: Note, dtype: int64"
      ]
     },
     "execution_count": 29,
     "metadata": {},
     "output_type": "execute_result"
    }
   ],
   "source": [
    "y.value_counts()"
   ]
  },
  {
   "cell_type": "code",
   "execution_count": 30,
   "id": "71881205-9b64-43e7-9682-e3f08f2d5eda",
   "metadata": {},
   "outputs": [
    {
     "data": {
      "text/plain": [
       "(2100,)"
      ]
     },
     "execution_count": 30,
     "metadata": {},
     "output_type": "execute_result"
    }
   ],
   "source": [
    "y.shape"
   ]
  },
  {
   "cell_type": "code",
   "execution_count": 31,
   "id": "5e5c823e-c354-4fbc-b170-57c23407bac3",
   "metadata": {},
   "outputs": [],
   "source": [
    "X_train, X_test, y_train, y_test = train_test_split(x, y, train_size=0.8, random_state=0)"
   ]
  },
  {
   "cell_type": "markdown",
   "id": "79f6b581",
   "metadata": {},
   "source": [
    "### Transformation en *Bag of words*"
   ]
  },
  {
   "cell_type": "code",
   "execution_count": 32,
   "id": "d900dbaf",
   "metadata": {},
   "outputs": [],
   "source": [
    "from sklearn.feature_extraction.text import CountVectorizer"
   ]
  },
  {
   "cell_type": "code",
   "execution_count": 33,
   "id": "91be5d90",
   "metadata": {},
   "outputs": [
    {
     "name": "stdout",
     "output_type": "stream",
     "text": [
      "(1680, 71) \n",
      " <class 'scipy.sparse.csr.csr_matrix'>\n"
     ]
    }
   ],
   "source": [
    "cv = CountVectorizer(lowercase=False, min_df=0.1)\n",
    "cv = cv.fit(X_train)\n",
    "cv_matrix = cv.transform(X_train)\n",
    "\n",
    "print(cv_matrix.shape, \"\\n\", type(cv_matrix))"
   ]
  },
  {
   "cell_type": "code",
   "execution_count": 34,
   "id": "1fc3e288",
   "metadata": {},
   "outputs": [
    {
     "data": {
      "text/html": [
       "<div>\n",
       "<style scoped>\n",
       "    .dataframe tbody tr th:only-of-type {\n",
       "        vertical-align: middle;\n",
       "    }\n",
       "\n",
       "    .dataframe tbody tr th {\n",
       "        vertical-align: top;\n",
       "    }\n",
       "\n",
       "    .dataframe thead th {\n",
       "        text-align: right;\n",
       "    }\n",
       "</style>\n",
       "<table border=\"1\" class=\"dataframe\">\n",
       "  <thead>\n",
       "    <tr style=\"text-align: right;\">\n",
       "      <th></th>\n",
       "      <th>acteur</th>\n",
       "      <th>action</th>\n",
       "      <th>aller</th>\n",
       "      <th>apres</th>\n",
       "      <th>assez</th>\n",
       "      <th>beaucoup</th>\n",
       "      <th>bien</th>\n",
       "      <th>bon</th>\n",
       "      <th>bref</th>\n",
       "      <th>carrey</th>\n",
       "      <th>...</th>\n",
       "      <th>scene</th>\n",
       "      <th>sonic</th>\n",
       "      <th>sortir</th>\n",
       "      <th>special</th>\n",
       "      <th>suite</th>\n",
       "      <th>super</th>\n",
       "      <th>toujours</th>\n",
       "      <th>video</th>\n",
       "      <th>voir</th>\n",
       "      <th>vraiment</th>\n",
       "    </tr>\n",
       "  </thead>\n",
       "  <tbody>\n",
       "    <tr>\n",
       "      <th>1732</th>\n",
       "      <td>0</td>\n",
       "      <td>0</td>\n",
       "      <td>0</td>\n",
       "      <td>0</td>\n",
       "      <td>0</td>\n",
       "      <td>0</td>\n",
       "      <td>1</td>\n",
       "      <td>0</td>\n",
       "      <td>0</td>\n",
       "      <td>0</td>\n",
       "      <td>...</td>\n",
       "      <td>0</td>\n",
       "      <td>0</td>\n",
       "      <td>0</td>\n",
       "      <td>0</td>\n",
       "      <td>0</td>\n",
       "      <td>0</td>\n",
       "      <td>0</td>\n",
       "      <td>0</td>\n",
       "      <td>0</td>\n",
       "      <td>0</td>\n",
       "    </tr>\n",
       "    <tr>\n",
       "      <th>202</th>\n",
       "      <td>0</td>\n",
       "      <td>0</td>\n",
       "      <td>1</td>\n",
       "      <td>0</td>\n",
       "      <td>0</td>\n",
       "      <td>0</td>\n",
       "      <td>2</td>\n",
       "      <td>0</td>\n",
       "      <td>0</td>\n",
       "      <td>0</td>\n",
       "      <td>...</td>\n",
       "      <td>1</td>\n",
       "      <td>0</td>\n",
       "      <td>0</td>\n",
       "      <td>0</td>\n",
       "      <td>0</td>\n",
       "      <td>0</td>\n",
       "      <td>0</td>\n",
       "      <td>0</td>\n",
       "      <td>1</td>\n",
       "      <td>0</td>\n",
       "    </tr>\n",
       "    <tr>\n",
       "      <th>10</th>\n",
       "      <td>0</td>\n",
       "      <td>0</td>\n",
       "      <td>0</td>\n",
       "      <td>0</td>\n",
       "      <td>0</td>\n",
       "      <td>0</td>\n",
       "      <td>0</td>\n",
       "      <td>0</td>\n",
       "      <td>0</td>\n",
       "      <td>0</td>\n",
       "      <td>...</td>\n",
       "      <td>2</td>\n",
       "      <td>0</td>\n",
       "      <td>0</td>\n",
       "      <td>0</td>\n",
       "      <td>0</td>\n",
       "      <td>0</td>\n",
       "      <td>0</td>\n",
       "      <td>0</td>\n",
       "      <td>0</td>\n",
       "      <td>0</td>\n",
       "    </tr>\n",
       "    <tr>\n",
       "      <th>311</th>\n",
       "      <td>1</td>\n",
       "      <td>0</td>\n",
       "      <td>0</td>\n",
       "      <td>1</td>\n",
       "      <td>0</td>\n",
       "      <td>0</td>\n",
       "      <td>0</td>\n",
       "      <td>0</td>\n",
       "      <td>0</td>\n",
       "      <td>0</td>\n",
       "      <td>...</td>\n",
       "      <td>0</td>\n",
       "      <td>0</td>\n",
       "      <td>0</td>\n",
       "      <td>0</td>\n",
       "      <td>0</td>\n",
       "      <td>0</td>\n",
       "      <td>0</td>\n",
       "      <td>0</td>\n",
       "      <td>0</td>\n",
       "      <td>1</td>\n",
       "    </tr>\n",
       "    <tr>\n",
       "      <th>568</th>\n",
       "      <td>1</td>\n",
       "      <td>2</td>\n",
       "      <td>1</td>\n",
       "      <td>0</td>\n",
       "      <td>0</td>\n",
       "      <td>0</td>\n",
       "      <td>2</td>\n",
       "      <td>1</td>\n",
       "      <td>1</td>\n",
       "      <td>0</td>\n",
       "      <td>...</td>\n",
       "      <td>4</td>\n",
       "      <td>0</td>\n",
       "      <td>1</td>\n",
       "      <td>1</td>\n",
       "      <td>0</td>\n",
       "      <td>0</td>\n",
       "      <td>0</td>\n",
       "      <td>0</td>\n",
       "      <td>3</td>\n",
       "      <td>0</td>\n",
       "    </tr>\n",
       "  </tbody>\n",
       "</table>\n",
       "<p>5 rows × 71 columns</p>\n",
       "</div>"
      ],
      "text/plain": [
       "      acteur  action  aller  apres  assez  beaucoup  bien  bon  bref  carrey  \\\n",
       "1732       0       0      0      0      0         0     1    0     0       0   \n",
       "202        0       0      1      0      0         0     2    0     0       0   \n",
       "10         0       0      0      0      0         0     0    0     0       0   \n",
       "311        1       0      0      1      0         0     0    0     0       0   \n",
       "568        1       2      1      0      0         0     2    1     1       0   \n",
       "\n",
       "      ...  scene  sonic  sortir  special  suite  super  toujours  video  voir  \\\n",
       "1732  ...      0      0       0        0      0      0         0      0     0   \n",
       "202   ...      1      0       0        0      0      0         0      0     1   \n",
       "10    ...      2      0       0        0      0      0         0      0     0   \n",
       "311   ...      0      0       0        0      0      0         0      0     0   \n",
       "568   ...      4      0       1        1      0      0         0      0     3   \n",
       "\n",
       "      vraiment  \n",
       "1732         0  \n",
       "202          0  \n",
       "10           0  \n",
       "311          1  \n",
       "568          0  \n",
       "\n",
       "[5 rows x 71 columns]"
      ]
     },
     "execution_count": 34,
     "metadata": {},
     "output_type": "execute_result"
    }
   ],
   "source": [
    "df_bow = pd.DataFrame(cv_matrix.toarray(), index = X_train.index, columns = cv.get_feature_names_out())\n",
    "df_bow.head()"
   ]
  },
  {
   "cell_type": "markdown",
   "id": "a9bddbde-5396-4807-b51f-e670af6b6f01",
   "metadata": {},
   "source": [
    "## Wordcloud"
   ]
  },
  {
   "cell_type": "code",
   "execution_count": 35,
   "id": "6953f932-242c-4745-a87f-8a720dd77537",
   "metadata": {},
   "outputs": [],
   "source": [
    "from wordcloud import WordCloud\n",
    "import matplotlib.pyplot as plt\n",
    "import numpy as np\n",
    "from PIL import Image"
   ]
  },
  {
   "cell_type": "code",
   "execution_count": 36,
   "id": "db891b9b-f9a7-4c12-842e-40a55f1ef7ce",
   "metadata": {},
   "outputs": [
    {
     "data": {
      "text/plain": [
       "0       apres chef oeuvre super heroique the dark knig...\n",
       "1       fou aime detester christopher nolan plus film ...\n",
       "2       chef uvre film absolument parfait acteur excel...\n",
       "3       film novateur complexe dont mettre scene touch...\n",
       "4       meilleur blockbuster theme delicat differencia...\n",
       "                              ...                        \n",
       "2095    rien dire vraiment excellent film premier deja...\n",
       "2096    adorer film beaucoup mieux premier loin aimer ...\n",
       "2097                  film bien qualite film superbe dire\n",
       "2098    excellent film voir petit grand trouver film b...\n",
       "2099    sonic film animation americano japonais realis...\n",
       "Name: lem, Length: 1778, dtype: object"
      ]
     },
     "execution_count": 36,
     "metadata": {},
     "output_type": "execute_result"
    }
   ],
   "source": [
    "#Récupération des avis positifs\n",
    "avis_positif = df[\"lem\"][y > 0]\n",
    "\n",
    "avis_positif"
   ]
  },
  {
   "cell_type": "code",
   "execution_count": 37,
   "id": "281bc382-ca47-4584-ba4b-2e6e0a3e4c04",
   "metadata": {},
   "outputs": [
    {
     "data": {
      "image/png": "[encoded data removed]",
      "text/plain": [
       "<Figure size 432x288 with 1 Axes>"
      ]
     },
     "metadata": {
      "needs_background": "light"
     },
     "output_type": "display_data"
    }
   ],
   "source": [
    "mask_pos = np.array(Image.open(\"pika_cloud.jpeg\"))\n",
    "mask_pos[mask_pos == 1] = 255\n",
    "\n",
    "WC_pos = WordCloud(background_color=\"white\", mask = mask_pos).generate(str(avis_positif))\n",
    "plt.imshow(WC_pos)\n",
    "plt.axis('off')\n",
    "plt.show()"
   ]
  },
  {
   "cell_type": "code",
   "execution_count": 38,
   "id": "8a32fa18-b834-45b1-b72e-1a1304b4f02b",
   "metadata": {},
   "outputs": [
    {
     "data": {
      "text/plain": [
       "30      aujourd huir dire mode film scenario complique...\n",
       "64      liberation apporter lors sortie salle commenta...\n",
       "65      haaaaaa dire film crain froisser quelque un di...\n",
       "67      inception rime plutot deception intriguer aval...\n",
       "78      film mou ennuyer total histoire soulant quelqu...\n",
       "                              ...                        \n",
       "1588    film vraiment enfant fin film er merite note a...\n",
       "1589    autant bon critique autant premier trouver ass...\n",
       "1592    deconseiller enfant plus an long heure dialogu...\n",
       "1600    beaucoup plus enfantin premier dommage ajout p...\n",
       "1612    decevoir sonic scenario mieux travailler premi...\n",
       "Name: lem, Length: 322, dtype: object"
      ]
     },
     "execution_count": 38,
     "metadata": {},
     "output_type": "execute_result"
    }
   ],
   "source": [
    "#Récupération des avis positifs négatifs\n",
    "avis_negatif = df[\"lem\"][y == 0]\n",
    "\n",
    "avis_negatif"
   ]
  },
  {
   "cell_type": "code",
   "execution_count": 39,
   "id": "5fa7cb50-771a-46c2-9a57-190338192240",
   "metadata": {},
   "outputs": [
    {
     "data": {
      "image/png": "[encoded data removed]",
      "text/plain": [
       "<Figure size 432x288 with 1 Axes>"
      ]
     },
     "metadata": {
      "needs_background": "light"
     },
     "output_type": "display_data"
    }
   ],
   "source": [
    "mask_neg = np.array(Image.open(\"salam_cloud.jpg\"))\n",
    "mask_neg[mask_neg < 255] = 0\n",
    "\n",
    "WC_neg = WordCloud(background_color=\"white\", mask = mask_neg).generate(str(avis_negatif))\n",
    "plt.imshow(WC_neg)\n",
    "plt.axis('off')\n",
    "plt.show()"
   ]
  },
  {
   "cell_type": "markdown",
   "id": "1fdcb560-46c0-44e7-9f9a-94430151e2c1",
   "metadata": {},
   "source": [
    "## Regréssion logistique"
   ]
  },
  {
   "cell_type": "code",
   "execution_count": 40,
   "id": "9b48ab54-2648-4b3b-be5e-bf00e60dc3e4",
   "metadata": {},
   "outputs": [],
   "source": [
    "from sklearn.linear_model import LogisticRegression"
   ]
  },
  {
   "cell_type": "code",
   "execution_count": 41,
   "id": "50356dc5-9e77-42fd-85cf-d0f4c065f131",
   "metadata": {},
   "outputs": [
    {
     "data": {
      "text/plain": [
       "LogisticRegression(random_state=0, solver='liblinear')"
      ]
     },
     "execution_count": 41,
     "metadata": {},
     "output_type": "execute_result"
    }
   ],
   "source": [
    "model_LR = LogisticRegression(solver=\"liblinear\", random_state=0)\n",
    "\n",
    "#Entrainement du modèle\n",
    "# model_LR.fit(X_train, y_train)\n",
    "model_LR.fit(df_bow, y_train)"
   ]
  },
  {
   "cell_type": "code",
   "execution_count": 42,
   "id": "e1363678-2f5f-4d61-a1a1-11584d901687",
   "metadata": {},
   "outputs": [
    {
     "data": {
      "text/plain": [
       "(420, 71)"
      ]
     },
     "execution_count": 42,
     "metadata": {},
     "output_type": "execute_result"
    }
   ],
   "source": [
    "cv_X_test = cv.transform(X_test)\n",
    "cv_X_test.shape"
   ]
  },
  {
   "cell_type": "code",
   "execution_count": 43,
   "id": "6b428431-9457-457c-a452-eed3c33ade17",
   "metadata": {},
   "outputs": [
    {
     "data": {
      "text/html": [
       "<div>\n",
       "<style scoped>\n",
       "    .dataframe tbody tr th:only-of-type {\n",
       "        vertical-align: middle;\n",
       "    }\n",
       "\n",
       "    .dataframe tbody tr th {\n",
       "        vertical-align: top;\n",
       "    }\n",
       "\n",
       "    .dataframe thead th {\n",
       "        text-align: right;\n",
       "    }\n",
       "</style>\n",
       "<table border=\"1\" class=\"dataframe\">\n",
       "  <thead>\n",
       "    <tr style=\"text-align: right;\">\n",
       "      <th></th>\n",
       "      <th>acteur</th>\n",
       "      <th>action</th>\n",
       "      <th>aller</th>\n",
       "      <th>apres</th>\n",
       "      <th>assez</th>\n",
       "      <th>beaucoup</th>\n",
       "      <th>bien</th>\n",
       "      <th>bon</th>\n",
       "      <th>bref</th>\n",
       "      <th>carrey</th>\n",
       "      <th>...</th>\n",
       "      <th>scene</th>\n",
       "      <th>sonic</th>\n",
       "      <th>sortir</th>\n",
       "      <th>special</th>\n",
       "      <th>suite</th>\n",
       "      <th>super</th>\n",
       "      <th>toujours</th>\n",
       "      <th>video</th>\n",
       "      <th>voir</th>\n",
       "      <th>vraiment</th>\n",
       "    </tr>\n",
       "  </thead>\n",
       "  <tbody>\n",
       "    <tr>\n",
       "      <th>2085</th>\n",
       "      <td>0</td>\n",
       "      <td>0</td>\n",
       "      <td>0</td>\n",
       "      <td>0</td>\n",
       "      <td>1</td>\n",
       "      <td>2</td>\n",
       "      <td>0</td>\n",
       "      <td>0</td>\n",
       "      <td>1</td>\n",
       "      <td>1</td>\n",
       "      <td>...</td>\n",
       "      <td>0</td>\n",
       "      <td>1</td>\n",
       "      <td>0</td>\n",
       "      <td>1</td>\n",
       "      <td>1</td>\n",
       "      <td>0</td>\n",
       "      <td>0</td>\n",
       "      <td>0</td>\n",
       "      <td>0</td>\n",
       "      <td>1</td>\n",
       "    </tr>\n",
       "    <tr>\n",
       "      <th>1941</th>\n",
       "      <td>0</td>\n",
       "      <td>0</td>\n",
       "      <td>0</td>\n",
       "      <td>0</td>\n",
       "      <td>0</td>\n",
       "      <td>2</td>\n",
       "      <td>0</td>\n",
       "      <td>0</td>\n",
       "      <td>0</td>\n",
       "      <td>0</td>\n",
       "      <td>...</td>\n",
       "      <td>1</td>\n",
       "      <td>5</td>\n",
       "      <td>0</td>\n",
       "      <td>0</td>\n",
       "      <td>0</td>\n",
       "      <td>1</td>\n",
       "      <td>1</td>\n",
       "      <td>0</td>\n",
       "      <td>0</td>\n",
       "      <td>0</td>\n",
       "    </tr>\n",
       "    <tr>\n",
       "      <th>1727</th>\n",
       "      <td>0</td>\n",
       "      <td>0</td>\n",
       "      <td>0</td>\n",
       "      <td>0</td>\n",
       "      <td>0</td>\n",
       "      <td>0</td>\n",
       "      <td>1</td>\n",
       "      <td>0</td>\n",
       "      <td>0</td>\n",
       "      <td>0</td>\n",
       "      <td>...</td>\n",
       "      <td>0</td>\n",
       "      <td>0</td>\n",
       "      <td>0</td>\n",
       "      <td>0</td>\n",
       "      <td>0</td>\n",
       "      <td>0</td>\n",
       "      <td>0</td>\n",
       "      <td>0</td>\n",
       "      <td>0</td>\n",
       "      <td>0</td>\n",
       "    </tr>\n",
       "    <tr>\n",
       "      <th>1170</th>\n",
       "      <td>0</td>\n",
       "      <td>0</td>\n",
       "      <td>0</td>\n",
       "      <td>0</td>\n",
       "      <td>0</td>\n",
       "      <td>0</td>\n",
       "      <td>0</td>\n",
       "      <td>0</td>\n",
       "      <td>0</td>\n",
       "      <td>0</td>\n",
       "      <td>...</td>\n",
       "      <td>0</td>\n",
       "      <td>0</td>\n",
       "      <td>0</td>\n",
       "      <td>0</td>\n",
       "      <td>0</td>\n",
       "      <td>0</td>\n",
       "      <td>0</td>\n",
       "      <td>0</td>\n",
       "      <td>0</td>\n",
       "      <td>0</td>\n",
       "    </tr>\n",
       "    <tr>\n",
       "      <th>723</th>\n",
       "      <td>0</td>\n",
       "      <td>0</td>\n",
       "      <td>0</td>\n",
       "      <td>0</td>\n",
       "      <td>0</td>\n",
       "      <td>0</td>\n",
       "      <td>0</td>\n",
       "      <td>1</td>\n",
       "      <td>0</td>\n",
       "      <td>0</td>\n",
       "      <td>...</td>\n",
       "      <td>0</td>\n",
       "      <td>0</td>\n",
       "      <td>0</td>\n",
       "      <td>0</td>\n",
       "      <td>0</td>\n",
       "      <td>0</td>\n",
       "      <td>0</td>\n",
       "      <td>0</td>\n",
       "      <td>0</td>\n",
       "      <td>0</td>\n",
       "    </tr>\n",
       "    <tr>\n",
       "      <th>...</th>\n",
       "      <td>...</td>\n",
       "      <td>...</td>\n",
       "      <td>...</td>\n",
       "      <td>...</td>\n",
       "      <td>...</td>\n",
       "      <td>...</td>\n",
       "      <td>...</td>\n",
       "      <td>...</td>\n",
       "      <td>...</td>\n",
       "      <td>...</td>\n",
       "      <td>...</td>\n",
       "      <td>...</td>\n",
       "      <td>...</td>\n",
       "      <td>...</td>\n",
       "      <td>...</td>\n",
       "      <td>...</td>\n",
       "      <td>...</td>\n",
       "      <td>...</td>\n",
       "      <td>...</td>\n",
       "      <td>...</td>\n",
       "      <td>...</td>\n",
       "    </tr>\n",
       "    <tr>\n",
       "      <th>1974</th>\n",
       "      <td>0</td>\n",
       "      <td>1</td>\n",
       "      <td>0</td>\n",
       "      <td>0</td>\n",
       "      <td>0</td>\n",
       "      <td>0</td>\n",
       "      <td>0</td>\n",
       "      <td>0</td>\n",
       "      <td>0</td>\n",
       "      <td>1</td>\n",
       "      <td>...</td>\n",
       "      <td>0</td>\n",
       "      <td>3</td>\n",
       "      <td>2</td>\n",
       "      <td>0</td>\n",
       "      <td>1</td>\n",
       "      <td>0</td>\n",
       "      <td>0</td>\n",
       "      <td>1</td>\n",
       "      <td>0</td>\n",
       "      <td>0</td>\n",
       "    </tr>\n",
       "    <tr>\n",
       "      <th>55</th>\n",
       "      <td>0</td>\n",
       "      <td>0</td>\n",
       "      <td>0</td>\n",
       "      <td>0</td>\n",
       "      <td>0</td>\n",
       "      <td>0</td>\n",
       "      <td>0</td>\n",
       "      <td>0</td>\n",
       "      <td>0</td>\n",
       "      <td>0</td>\n",
       "      <td>...</td>\n",
       "      <td>0</td>\n",
       "      <td>0</td>\n",
       "      <td>0</td>\n",
       "      <td>0</td>\n",
       "      <td>0</td>\n",
       "      <td>0</td>\n",
       "      <td>0</td>\n",
       "      <td>0</td>\n",
       "      <td>0</td>\n",
       "      <td>0</td>\n",
       "    </tr>\n",
       "    <tr>\n",
       "      <th>141</th>\n",
       "      <td>0</td>\n",
       "      <td>0</td>\n",
       "      <td>0</td>\n",
       "      <td>0</td>\n",
       "      <td>0</td>\n",
       "      <td>0</td>\n",
       "      <td>0</td>\n",
       "      <td>0</td>\n",
       "      <td>0</td>\n",
       "      <td>0</td>\n",
       "      <td>...</td>\n",
       "      <td>0</td>\n",
       "      <td>0</td>\n",
       "      <td>0</td>\n",
       "      <td>0</td>\n",
       "      <td>0</td>\n",
       "      <td>0</td>\n",
       "      <td>0</td>\n",
       "      <td>0</td>\n",
       "      <td>0</td>\n",
       "      <td>0</td>\n",
       "    </tr>\n",
       "    <tr>\n",
       "      <th>1773</th>\n",
       "      <td>0</td>\n",
       "      <td>0</td>\n",
       "      <td>1</td>\n",
       "      <td>0</td>\n",
       "      <td>0</td>\n",
       "      <td>0</td>\n",
       "      <td>1</td>\n",
       "      <td>1</td>\n",
       "      <td>0</td>\n",
       "      <td>0</td>\n",
       "      <td>...</td>\n",
       "      <td>1</td>\n",
       "      <td>5</td>\n",
       "      <td>0</td>\n",
       "      <td>0</td>\n",
       "      <td>0</td>\n",
       "      <td>1</td>\n",
       "      <td>0</td>\n",
       "      <td>1</td>\n",
       "      <td>1</td>\n",
       "      <td>0</td>\n",
       "    </tr>\n",
       "    <tr>\n",
       "      <th>1728</th>\n",
       "      <td>0</td>\n",
       "      <td>0</td>\n",
       "      <td>1</td>\n",
       "      <td>0</td>\n",
       "      <td>0</td>\n",
       "      <td>0</td>\n",
       "      <td>1</td>\n",
       "      <td>1</td>\n",
       "      <td>0</td>\n",
       "      <td>0</td>\n",
       "      <td>...</td>\n",
       "      <td>1</td>\n",
       "      <td>5</td>\n",
       "      <td>0</td>\n",
       "      <td>0</td>\n",
       "      <td>0</td>\n",
       "      <td>1</td>\n",
       "      <td>0</td>\n",
       "      <td>1</td>\n",
       "      <td>1</td>\n",
       "      <td>0</td>\n",
       "    </tr>\n",
       "  </tbody>\n",
       "</table>\n",
       "<p>420 rows × 71 columns</p>\n",
       "</div>"
      ],
      "text/plain": [
       "      acteur  action  aller  apres  assez  beaucoup  bien  bon  bref  carrey  \\\n",
       "2085       0       0      0      0      1         2     0    0     1       1   \n",
       "1941       0       0      0      0      0         2     0    0     0       0   \n",
       "1727       0       0      0      0      0         0     1    0     0       0   \n",
       "1170       0       0      0      0      0         0     0    0     0       0   \n",
       "723        0       0      0      0      0         0     0    1     0       0   \n",
       "...      ...     ...    ...    ...    ...       ...   ...  ...   ...     ...   \n",
       "1974       0       1      0      0      0         0     0    0     0       1   \n",
       "55         0       0      0      0      0         0     0    0     0       0   \n",
       "141        0       0      0      0      0         0     0    0     0       0   \n",
       "1773       0       0      1      0      0         0     1    1     0       0   \n",
       "1728       0       0      1      0      0         0     1    1     0       0   \n",
       "\n",
       "      ...  scene  sonic  sortir  special  suite  super  toujours  video  voir  \\\n",
       "2085  ...      0      1       0        1      1      0         0      0     0   \n",
       "1941  ...      1      5       0        0      0      1         1      0     0   \n",
       "1727  ...      0      0       0        0      0      0         0      0     0   \n",
       "1170  ...      0      0       0        0      0      0         0      0     0   \n",
       "723   ...      0      0       0        0      0      0         0      0     0   \n",
       "...   ...    ...    ...     ...      ...    ...    ...       ...    ...   ...   \n",
       "1974  ...      0      3       2        0      1      0         0      1     0   \n",
       "55    ...      0      0       0        0      0      0         0      0     0   \n",
       "141   ...      0      0       0        0      0      0         0      0     0   \n",
       "1773  ...      1      5       0        0      0      1         0      1     1   \n",
       "1728  ...      1      5       0        0      0      1         0      1     1   \n",
       "\n",
       "      vraiment  \n",
       "2085         1  \n",
       "1941         0  \n",
       "1727         0  \n",
       "1170         0  \n",
       "723          0  \n",
       "...        ...  \n",
       "1974         0  \n",
       "55           0  \n",
       "141          0  \n",
       "1773         0  \n",
       "1728         0  \n",
       "\n",
       "[420 rows x 71 columns]"
      ]
     },
     "execution_count": 43,
     "metadata": {},
     "output_type": "execute_result"
    }
   ],
   "source": [
    "X_test_bow = pd.DataFrame(cv_X_test.toarray(), index = X_test.index, columns = cv.get_feature_names_out())\n",
    "X_test_bow"
   ]
  },
  {
   "cell_type": "code",
   "execution_count": 44,
   "id": "4c55f761-1a77-4492-8400-accfa849c042",
   "metadata": {},
   "outputs": [],
   "source": [
    "#Prédiction du y\n",
    "y_pred = model_LR.predict(X_test_bow)"
   ]
  },
  {
   "cell_type": "code",
   "execution_count": 45,
   "id": "0e7d7dfc-86ef-48d7-9829-51fcad1091b9",
   "metadata": {},
   "outputs": [
    {
     "name": "stdout",
     "output_type": "stream",
     "text": [
      "La précision est de 0.8380952380952381\n"
     ]
    }
   ],
   "source": [
    "accuracy = model_LR.score(X_test_bow, y_test)\n",
    "print(f\"La précision est de {accuracy}\")"
   ]
  },
  {
   "cell_type": "markdown",
   "id": "8ce5d116-002b-4ed9-bfe6-f6cba8c77a69",
   "metadata": {},
   "source": [
    "### Matrice de confusion"
   ]
  },
  {
   "cell_type": "code",
   "execution_count": 46,
   "id": "88ecf4c0-53c8-4aff-b1ca-3c70c496aefa",
   "metadata": {},
   "outputs": [],
   "source": [
    "from sklearn.metrics import confusion_matrix"
   ]
  },
  {
   "cell_type": "code",
   "execution_count": 47,
   "id": "f37c70c2-ce70-493a-a96d-121a3db4c19b",
   "metadata": {},
   "outputs": [
    {
     "data": {
      "text/plain": [
       "array([[ 25,  51],\n",
       "       [ 17, 327]])"
      ]
     },
     "execution_count": 47,
     "metadata": {},
     "output_type": "execute_result"
    }
   ],
   "source": [
    "matrice_confusion = confusion_matrix(y_test, y_pred)\n",
    "matrice_confusion"
   ]
  },
  {
   "cell_type": "code",
   "execution_count": 48,
   "id": "04d1cf40-9bb9-43cc-8638-162a12cdfb69",
   "metadata": {},
   "outputs": [
    {
     "name": "stdout",
     "output_type": "stream",
     "text": [
      "True negative = 25, \n",
      "False positive = 51, \n",
      "False negative = 17, \n",
      "True positive = 327\n"
     ]
    }
   ],
   "source": [
    "tn, fp, fn, tp = matrice_confusion.ravel()\n",
    "\n",
    "print(f\"True negative = {tn}, \\nFalse positive = {fp}, \\nFalse negative = {fn}, \\nTrue positive = {tp}\")"
   ]
  }
 ],
 "metadata": {
  "kernelspec": {
   "display_name": "Python 3 (ipykernel)",
   "language": "python",
   "name": "python3"
  },
  "language_info": {
   "codemirror_mode": {
    "name": "ipython",
    "version": 3
   },
   "file_extension": ".py",
   "mimetype": "text/x-python",
   "name": "python",
   "nbconvert_exporter": "python",
   "pygments_lexer": "ipython3",
   "version": "3.9.7"
  }
 },
 "nbformat": 4,
 "nbformat_minor": 5
}
